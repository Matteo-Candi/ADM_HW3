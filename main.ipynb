{
  "nbformat": 4,
  "nbformat_minor": 0,
  "metadata": {
    "colab": {
      "provenance": [],
      "authorship_tag": "ABX9TyMQi+HtM3/4HET+IBhxwQTa",
      "include_colab_link": true
    },
    "kernelspec": {
      "name": "python3",
      "display_name": "Python 3"
    },
    "language_info": {
      "name": "python"
    }
  },
  "cells": [
    {
      "cell_type": "markdown",
      "metadata": {
        "id": "view-in-github",
        "colab_type": "text"
      },
      "source": [
        "<a href=\"https://colab.research.google.com/github/Matteo-Candi/ADM_HW3/blob/main/main.ipynb\" target=\"_parent\"><img src=\"https://colab.research.google.com/assets/colab-badge.svg\" alt=\"Open In Colab\"/></a>"
      ]
    },
    {
      "cell_type": "markdown",
      "source": [
        "# **Homework 3 - Places of the world**\n",
        "---"
      ],
      "metadata": {
        "id": "H3W5jGI5PHoQ"
      }
    },
    {
      "cell_type": "markdown",
      "source": [
        "## **1. Data collection**"
      ],
      "metadata": {
        "id": "dSLgf_UR-UtC"
      }
    },
    {
      "cell_type": "markdown",
      "source": [
        "### 1.1. Get the list of places"
      ],
      "metadata": {
        "id": "1OcBNHQk-Uqo"
      }
    },
    {
      "cell_type": "code",
      "source": [],
      "metadata": {
        "id": "-MWcaQ6G-inm"
      },
      "execution_count": null,
      "outputs": []
    },
    {
      "cell_type": "markdown",
      "source": [
        "### 1.2. Crawl places"
      ],
      "metadata": {
        "id": "U-8gNTOy-UmR"
      }
    },
    {
      "cell_type": "code",
      "source": [],
      "metadata": {
        "id": "3IOF2jT5-jmz"
      },
      "execution_count": null,
      "outputs": []
    },
    {
      "cell_type": "markdown",
      "source": [
        "### 1.3 Parse downloaded pages"
      ],
      "metadata": {
        "id": "Fw2o9DTH-UkN"
      }
    },
    {
      "cell_type": "code",
      "source": [],
      "metadata": {
        "id": "rFPTFkld-nq3"
      },
      "execution_count": null,
      "outputs": []
    },
    {
      "cell_type": "markdown",
      "source": [
        "---\n",
        "## **2. Search Engine**"
      ],
      "metadata": {
        "id": "Y05B7aa0-Ufb"
      }
    },
    {
      "cell_type": "code",
      "source": [],
      "metadata": {
        "id": "MocI2eQz_HTj"
      },
      "execution_count": null,
      "outputs": []
    },
    {
      "cell_type": "markdown",
      "source": [
        "### 2.1. Conjunctive query"
      ],
      "metadata": {
        "id": "zAp4yrzH-Ucq"
      }
    },
    {
      "cell_type": "code",
      "source": [],
      "metadata": {
        "id": "V1a6M4VT-TpK"
      },
      "execution_count": null,
      "outputs": []
    },
    {
      "cell_type": "markdown",
      "source": [
        " 2.1.1) Create your index!"
      ],
      "metadata": {
        "id": "2ZG77zGj_LaE"
      }
    },
    {
      "cell_type": "code",
      "source": [],
      "metadata": {
        "id": "fmiVUH_K_LTS"
      },
      "execution_count": null,
      "outputs": []
    },
    {
      "cell_type": "markdown",
      "source": [
        "2.1.2) Execute the query"
      ],
      "metadata": {
        "id": "kBhdTOgE_Yzo"
      }
    },
    {
      "cell_type": "code",
      "source": [],
      "metadata": {
        "id": "h4vsDwzW_Ysa"
      },
      "execution_count": null,
      "outputs": []
    },
    {
      "cell_type": "markdown",
      "source": [
        "### 2.2. Conjunctive query & Ranking score"
      ],
      "metadata": {
        "id": "zU03Hu7F_YkW"
      }
    },
    {
      "cell_type": "code",
      "source": [],
      "metadata": {
        "id": "l55GDzPg_Yb-"
      },
      "execution_count": null,
      "outputs": []
    },
    {
      "cell_type": "markdown",
      "source": [
        "2.2.1) Inverted index"
      ],
      "metadata": {
        "id": "WaSGQdg5_YPV"
      }
    },
    {
      "cell_type": "code",
      "source": [],
      "metadata": {
        "id": "wA_6ncRi_YF4"
      },
      "execution_count": null,
      "outputs": []
    },
    {
      "cell_type": "markdown",
      "source": [
        "2.2.2) Execute the query"
      ],
      "metadata": {
        "id": "fyJps-s4_2iR"
      }
    },
    {
      "cell_type": "code",
      "source": [],
      "metadata": {
        "id": "zoJTmwoU_2bZ"
      },
      "execution_count": null,
      "outputs": []
    },
    {
      "cell_type": "markdown",
      "source": [
        "---\n",
        "## **3. Define a new score!**"
      ],
      "metadata": {
        "id": "C5wr0dYk_2UM"
      }
    },
    {
      "cell_type": "code",
      "source": [],
      "metadata": {
        "id": "OQ2GuM3A_2NL"
      },
      "execution_count": null,
      "outputs": []
    },
    {
      "cell_type": "markdown",
      "source": [
        "---\n",
        "## **4. Visualizing the most relevant places**"
      ],
      "metadata": {
        "id": "tiNoRx2N_2Gl"
      }
    },
    {
      "cell_type": "code",
      "source": [],
      "metadata": {
        "id": "WdDCiAtw_1_F"
      },
      "execution_count": null,
      "outputs": []
    },
    {
      "cell_type": "markdown",
      "source": [
        "---\n",
        "## **5. BONUS: More complex search engine**"
      ],
      "metadata": {
        "id": "sVU1bG3jAR0Z"
      }
    },
    {
      "cell_type": "code",
      "source": [],
      "metadata": {
        "id": "ZKiknB6eARtR"
      },
      "execution_count": null,
      "outputs": []
    },
    {
      "cell_type": "markdown",
      "source": [
        "---\n",
        "## **6. Command line question**"
      ],
      "metadata": {
        "id": "u7Hd6BgYARmn"
      }
    },
    {
      "cell_type": "code",
      "source": [],
      "metadata": {
        "id": "IlihMLkKARe-"
      },
      "execution_count": null,
      "outputs": []
    },
    {
      "cell_type": "markdown",
      "source": [
        "---\n",
        "## **7. Theoretical question**"
      ],
      "metadata": {
        "id": "B_eW_Q1-ARH1"
      }
    },
    {
      "cell_type": "code",
      "source": [],
      "metadata": {
        "id": "0P8LDEG4ARBq"
      },
      "execution_count": null,
      "outputs": []
    }
  ]
}
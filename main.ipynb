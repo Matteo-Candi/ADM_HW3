{
  "cells": [
    {
      "cell_type": "markdown",
      "metadata": {
        "colab_type": "text",
        "id": "view-in-github"
      },
      "source": [
        "<a href=\"https://colab.research.google.com/github/Matteo-Candi/ADM_HW3/blob/main/main.ipynb\" target=\"_parent\"><img src=\"https://colab.research.google.com/assets/colab-badge.svg\" alt=\"Open In Colab\"/></a>"
      ]
    },
    {
      "cell_type": "markdown",
      "metadata": {
        "id": "H3W5jGI5PHoQ"
      },
      "source": [
        "# **Homework 3 - Places of the world**\n",
        "---"
      ]
    },
    {
      "cell_type": "code",
      "execution_count": 20,
      "metadata": {},
      "outputs": [],
      "source": [
        "import requests\n",
        "import bs4\n",
        "from bs4 import BeautifulSoup as bs\n",
        "from tqdm import tqdm\n",
        "import os\n",
        "import pandas as pd\n",
        "import numpy as np\n",
        "from datetime import datetime"
      ]
    },
    {
      "cell_type": "markdown",
      "metadata": {
        "id": "dSLgf_UR-UtC"
      },
      "source": [
        "## **1. df collection**"
      ]
    },
    {
      "cell_type": "markdown",
      "metadata": {
        "id": "1OcBNHQk-Uqo"
      },
      "source": [
        "### 1.1. Get the list of places"
      ]
    },
    {
      "cell_type": "code",
      "execution_count": 2,
      "metadata": {
        "id": "-MWcaQ6G-inm"
      },
      "outputs": [
        {
          "data": {
            "text/plain": [
              "'c:\\\\Users\\\\yharr\\\\OneDrive\\\\Bureau\\\\DataScience\\\\ADM\\\\homeworks\\\\ADM_Homework3\\\\repo_git\\\\ADM_HW3../'"
            ]
          },
          "execution_count": 2,
          "metadata": {},
          "output_type": "execute_result"
        }
      ],
      "source": [
        "with open('Places_url.txt', 'x') as f:\n",
        "    for i in tqdm(range(1,401)):             \n",
        "        url = f'https://www.atlasobscura.com/places?page={i}&sort=likes_count'\n",
        "        result = requests.get(url)\n",
        "        soup = bs(result.text)\n",
        "        matches = soup.find_all(\"a\", {\"class\": \"content-card content-card-place\"})\n",
        "        for match in matches:\n",
        "            f.write(match['href'] + '\\n')"
      ]
    },
    {
      "cell_type": "markdown",
      "metadata": {
        "id": "U-8gNTOy-UmR"
      },
      "source": [
        "### 1.2. Crawl places"
      ]
    },
    {
      "cell_type": "code",
      "execution_count": null,
      "metadata": {
        "id": "3IOF2jT5-jmz"
      },
      "outputs": [],
      "source": [
        "os.mkdir(f'Locations')\n",
        "places_url = pd.read_csv('Places_url.txt', header=None)\n",
        "\n",
        "\n",
        "for page in tqdm(range(0,400)):\n",
        "    os.mkdir(f'Locations/page_{page + 1}')\n",
        "    for loc in range(0,18):\n",
        "        with open(f'Locations/page_{page + 1}/location_{(18 * page) + loc + 1}.html', 'x', encoding=\"utf-8\") as f:\n",
        "            url = 'https://www.atlasobscura.com' + places_url.iloc[(18 * page) + loc][0]\n",
        "            result = requests.get(url)\n",
        "            html = result.text\n",
        "            f.write(html)"
      ]
    },
    {
      "cell_type": "markdown",
      "metadata": {
        "id": "Fw2o9DTH-UkN"
      },
      "source": [
        "### 1.3 Parse downloaded pages"
      ]
    },
    {
      "cell_type": "code",
      "execution_count": 113,
      "metadata": {
        "id": "rFPTFkld-nq3"
      },
      "outputs": [],
      "source": [
        "def get_data_for_one_place(html_file):\n",
        "\n",
        "    soup = bs(html_file)\n",
        "\n",
        "    df = pd.DataFrame(columns=['placeName','placeTags','numPeopleVisited','numPeopleWant','placeDesc','placeShortDesc','placeNearby','placeAddress','placeAlt','placeLong','placeEditors','placePubDate','placeRelatedLists','placeRelatedPlaces','placeURL']) \n",
        "\n",
        "    placeName = soup.find('h1', {'class':'DDPage__header-title'})\n",
        "    if placeName is not None :\n",
        "        df['placeName'] = [placeName.text]\n",
        "    else :\n",
        "        df['placeName'] = ''\n",
        "\n",
        "    placeTags = soup.find('div', {'class':'DDPage__header-place-location'})\n",
        "    if placeTags is not None :\n",
        "        df['placeTags'] = placeTags.text\n",
        "    else :\n",
        "        df['placeTags'] = ''\n",
        "\n",
        "    if soup.find_all('div', {'class':'col-xs-4X js-submit-wrap js-been-to-top-wrap action-btn-col hidden-print'}) is not None and soup.find_all('div', {'class':'col-xs-4X js-submit-wrap js-been-to-top-wrap action-btn-col hidden-print'})[0].find('div', {'class':'title-md item-action-count'}) is not None :\n",
        "        df['numPeopleVisited'] = int(soup.find_all('div', {'class':'col-xs-4X js-submit-wrap js-been-to-top-wrap action-btn-col hidden-print'})[0].find('div', {'class':'title-md item-action-count'}).text)\n",
        "    else :\n",
        "        df['numPeopleVisited'] = ''\n",
        "\n",
        "    if soup.find('div', {'class':'col-xs-4X js-submit-wrap js-like-top-wrap action-btn-col hidden-print'}) is not None and soup.find_all('div', {'class':'col-xs-4X js-submit-wrap js-like-top-wrap action-btn-col hidden-print'})[0].find('div', {'class':'title-md item-action-count'}) is not None :\n",
        "        df['numPeopleWant'] = int(soup.find_all('div', {'class':'col-xs-4X js-submit-wrap js-like-top-wrap action-btn-col hidden-print'})[0].find('div', {'class':'title-md item-action-count'}).text)\n",
        "    else :\n",
        "        df['numPeopleWant'] = ''\n",
        "\n",
        "    placeDesc = soup.find('div', {'id':'place-body'})\n",
        "    if placeDesc is not None :\n",
        "        df['placeDesc'] = placeDesc.text.replace('\\n','')\n",
        "    else :\n",
        "        df['placeDesc'] = ''\n",
        "    \n",
        "    placeShortDesc = soup.find('h3', {'class': 'DDPage__header-dek'})\n",
        "    if placeShortDesc is not None :\n",
        "        df['placeShortDesc'] = placeShortDesc.text.replace('\\n','')\n",
        "    else :\n",
        "        df['placeShortDesc'] = ''\n",
        "\n",
        "    placeNearby = set([match.text for match in soup.find_all('div', {'class': 'DDPageSiderailRecirc__item-title'})])\n",
        "    if len(placeNearby) != 0 :\n",
        "        df['placeNearby'] = ','.join(list(placeNearby))\n",
        "    else :\n",
        "        df['placeNearby'] = ''\n",
        "\n",
        "    match_address = soup.find_all(\"address\", {\"class\":\"DDPageSiderail__address\"})[0]\n",
        "    if len(match_address) != 0 :\n",
        "        placeAddress = match_address.find('div').contents[0:5:2]\n",
        "        df['placeAddress'] = \"\".join(placeAddress).replace('\\n','')\n",
        "    else :\n",
        "        df['placeAddress'] = ''\n",
        "\n",
        "    match = soup.find(\"div\", {\"class\":\"DDPageSiderail__coordinates js-copy-coordinates\"}).get_text().split()\n",
        "    if len(match) != 0 :\n",
        "        df['placeAlt'] = int(round(float(match[0][:-1])))\n",
        "        df['placeLong'] = int(round(float(match[1])))\n",
        "    else :\n",
        "        df['placeAlt'] = ''\n",
        "        df['placeLong'] = ''\n",
        "\n",
        "    contributors = []\n",
        "    for contributor in soup.find_all('div', {'class':'DDPContributors'})[0].find_all('a', {'class':'DDPContributorsList__contributor'}) :\n",
        "        if contributor.find('span') is not None :\n",
        "            contributors.append(contributor.find('span').text)\n",
        "        else :\n",
        "            contributors.append(contributor.text)\n",
        "    if len(contributors) != 0 :\n",
        "        df['placeEditors'] = ','.join(list(set(contributors)))\n",
        "    else :\n",
        "        df['placeEditors'] = ''\n",
        "\n",
        "    placePubDate = soup.find(\"div\", {\"class\":\"DDPContributor__name\"})\n",
        "    if placePubDate is not None :\n",
        "        df['placePubDate'] = datetime.strptime(placePubDate.text, '%B %d, %Y')\n",
        "    else :\n",
        "        df['placePubDate'] = ''\n",
        "\n",
        "    placeRelatedLists = []\n",
        "    placeRelatedPlaces = []\n",
        "    for container in soup.find_all('div', {'class' : 'full-width-container CardRecircSection'}) :\n",
        "        title = container.find('div', {'class':'CardRecircSection__title'}).text\n",
        "        if 'Appears' in title :\n",
        "            for container_related in container.find_all('h3', {'class':'Card__heading --content-card-v2-title js-title-content'}) :\n",
        "                placeRelatedLists.append(container_related.text[1:-1])\n",
        "        elif 'Related Places' in title :\n",
        "            for container_related in container.find_all('h3', {'class':'Card__heading --content-card-v2-title js-title-content'}) :\n",
        "                placeRelatedPlaces.append(container_related.text[1:-1])\n",
        "    if len(placeRelatedLists) != 0 :\n",
        "        df['placeRelatedLists'] = ','.join(placeRelatedLists)\n",
        "    else :\n",
        "        df['placeRelatedLists'] = ''\n",
        "    if len(placeRelatedPlaces) != 0 :\n",
        "        df['placeRelatedPlaces'] = ','.join(placeRelatedPlaces)\n",
        "    else :\n",
        "        df['placeRelatedPlaces'] = ''\n",
        "\n",
        "    if len(soup.find_all(\"link\", {'rel':'canonical'})) != 0 :\n",
        "        df['placeURL'] = soup.find_all(\"link\", {'rel':'canonical'})[0]['href']   \n",
        "    else :\n",
        "        df['placeURL'] = ''  \n",
        "        \n",
        "    return df\n"
      ]
    },
    {
      "cell_type": "code",
      "execution_count": 114,
      "metadata": {},
      "outputs": [
        {
          "data": {
            "text/html": [
              "<div>\n",
              "<style scoped>\n",
              "    .dataframe tbody tr th:only-of-type {\n",
              "        vertical-align: middle;\n",
              "    }\n",
              "\n",
              "    .dataframe tbody tr th {\n",
              "        vertical-align: top;\n",
              "    }\n",
              "\n",
              "    .dataframe thead th {\n",
              "        text-align: right;\n",
              "    }\n",
              "</style>\n",
              "<table border=\"1\" class=\"dataframe\">\n",
              "  <thead>\n",
              "    <tr style=\"text-align: right;\">\n",
              "      <th></th>\n",
              "      <th>placeName</th>\n",
              "      <th>placeTags</th>\n",
              "      <th>numPeopleVisited</th>\n",
              "      <th>numPeopleWant</th>\n",
              "      <th>placeDesc</th>\n",
              "      <th>placeShortDesc</th>\n",
              "      <th>placeNearby</th>\n",
              "      <th>placeAddress</th>\n",
              "      <th>placeAlt</th>\n",
              "      <th>placeLong</th>\n",
              "      <th>placeEditors</th>\n",
              "      <th>placePubDate</th>\n",
              "      <th>placeRelatedLists</th>\n",
              "      <th>placeRelatedPlaces</th>\n",
              "      <th>placeURL</th>\n",
              "    </tr>\n",
              "  </thead>\n",
              "  <tbody>\n",
              "    <tr>\n",
              "      <th>0</th>\n",
              "      <td>City Hall Station</td>\n",
              "      <td>Manhattan, New York</td>\n",
              "      <td>1828</td>\n",
              "      <td>8583</td>\n",
              "      <td>The first New York City subway was built and o...</td>\n",
              "      <td>A beautiful and abandoned New York subway stat...</td>\n",
              "      <td>African Burial Ground National Monument,Tunnel...</td>\n",
              "      <td>31 Centre StNew York, New York, 10007United St...</td>\n",
              "      <td>41</td>\n",
              "      <td>-74</td>\n",
              "      <td>erjeffery,jrc2692,Rebekah Otto,offtrackplanet,...</td>\n",
              "      <td>2010-05-08</td>\n",
              "      <td>30 Unexpected Places to Have a Joyful Adventur...</td>\n",
              "      <td>Crystal Palace Subway,Moscow Metro Stations,Ro...</td>\n",
              "      <td>https://www.atlasobscura.com/places/city-hall-...</td>\n",
              "    </tr>\n",
              "  </tbody>\n",
              "</table>\n",
              "</div>"
            ],
            "text/plain": [
              "           placeName            placeTags  numPeopleVisited  numPeopleWant  \\\n",
              "0  City Hall Station  Manhattan, New York              1828           8583   \n",
              "\n",
              "                                           placeDesc  \\\n",
              "0  The first New York City subway was built and o...   \n",
              "\n",
              "                                      placeShortDesc  \\\n",
              "0  A beautiful and abandoned New York subway stat...   \n",
              "\n",
              "                                         placeNearby  \\\n",
              "0  African Burial Ground National Monument,Tunnel...   \n",
              "\n",
              "                                        placeAddress  placeAlt  placeLong  \\\n",
              "0  31 Centre StNew York, New York, 10007United St...        41        -74   \n",
              "\n",
              "                                        placeEditors placePubDate  \\\n",
              "0  erjeffery,jrc2692,Rebekah Otto,offtrackplanet,...   2010-05-08   \n",
              "\n",
              "                                   placeRelatedLists  \\\n",
              "0  30 Unexpected Places to Have a Joyful Adventur...   \n",
              "\n",
              "                                  placeRelatedPlaces  \\\n",
              "0  Crystal Palace Subway,Moscow Metro Stations,Ro...   \n",
              "\n",
              "                                            placeURL  \n",
              "0  https://www.atlasobscura.com/places/city-hall-...  "
            ]
          },
          "execution_count": 114,
          "metadata": {},
          "output_type": "execute_result"
        }
      ],
      "source": [
        "file = open(os.getcwd()+'/Locations/page_1/location_1.html', encoding='utf-8')\n",
        "html_file = file.read()\n",
        "file.close()\n",
        "\n",
        "df = get_data_for_one_place(html_file)\n",
        "df.to_csv(os.getcwd()+'/test.tsv', sep='\\t', index=False, header=None)\n",
        "df\n"
      ]
    },
    {
      "cell_type": "code",
      "execution_count": null,
      "metadata": {},
      "outputs": [],
      "source": []
    },
    {
      "cell_type": "markdown",
      "metadata": {
        "id": "Y05B7aa0-Ufb"
      },
      "source": [
        "---\n",
        "## **2. Search Engine**"
      ]
    },
    {
      "cell_type": "code",
      "execution_count": null,
      "metadata": {
        "id": "MocI2eQz_HTj"
      },
      "outputs": [],
      "source": []
    },
    {
      "cell_type": "markdown",
      "metadata": {
        "id": "zAp4yrzH-Ucq"
      },
      "source": [
        "### 2.1. Conjunctive query"
      ]
    },
    {
      "cell_type": "code",
      "execution_count": null,
      "metadata": {
        "id": "V1a6M4VT-TpK"
      },
      "outputs": [],
      "source": []
    },
    {
      "cell_type": "markdown",
      "metadata": {
        "id": "2ZG77zGj_LaE"
      },
      "source": [
        " 2.1.1) Create your index!"
      ]
    },
    {
      "cell_type": "code",
      "execution_count": null,
      "metadata": {
        "id": "fmiVUH_K_LTS"
      },
      "outputs": [],
      "source": []
    },
    {
      "cell_type": "markdown",
      "metadata": {
        "id": "kBhdTOgE_Yzo"
      },
      "source": [
        "2.1.2) Execute the query"
      ]
    },
    {
      "cell_type": "code",
      "execution_count": null,
      "metadata": {
        "id": "h4vsDwzW_Ysa"
      },
      "outputs": [],
      "source": []
    },
    {
      "cell_type": "markdown",
      "metadata": {
        "id": "zU03Hu7F_YkW"
      },
      "source": [
        "### 2.2. Conjunctive query & Ranking score"
      ]
    },
    {
      "cell_type": "code",
      "execution_count": null,
      "metadata": {
        "id": "l55GDzPg_Yb-"
      },
      "outputs": [],
      "source": []
    },
    {
      "cell_type": "markdown",
      "metadata": {
        "id": "WaSGQdg5_YPV"
      },
      "source": [
        "2.2.1) Inverted index"
      ]
    },
    {
      "cell_type": "code",
      "execution_count": null,
      "metadata": {
        "id": "wA_6ncRi_YF4"
      },
      "outputs": [],
      "source": []
    },
    {
      "cell_type": "markdown",
      "metadata": {
        "id": "fyJps-s4_2iR"
      },
      "source": [
        "2.2.2) Execute the query"
      ]
    },
    {
      "cell_type": "code",
      "execution_count": null,
      "metadata": {
        "id": "zoJTmwoU_2bZ"
      },
      "outputs": [],
      "source": []
    },
    {
      "cell_type": "markdown",
      "metadata": {
        "id": "C5wr0dYk_2UM"
      },
      "source": [
        "---\n",
        "## **3. Define a new score!**"
      ]
    },
    {
      "cell_type": "code",
      "execution_count": null,
      "metadata": {
        "id": "OQ2GuM3A_2NL"
      },
      "outputs": [],
      "source": []
    },
    {
      "cell_type": "markdown",
      "metadata": {
        "id": "tiNoRx2N_2Gl"
      },
      "source": [
        "---\n",
        "## **4. Visualizing the most relevant places**"
      ]
    },
    {
      "cell_type": "code",
      "execution_count": null,
      "metadata": {
        "id": "WdDCiAtw_1_F"
      },
      "outputs": [],
      "source": []
    },
    {
      "cell_type": "markdown",
      "metadata": {
        "id": "sVU1bG3jAR0Z"
      },
      "source": [
        "---\n",
        "## **5. BONUS: More complex search engine**"
      ]
    },
    {
      "cell_type": "code",
      "execution_count": null,
      "metadata": {
        "id": "ZKiknB6eARtR"
      },
      "outputs": [],
      "source": []
    },
    {
      "cell_type": "markdown",
      "metadata": {
        "id": "u7Hd6BgYARmn"
      },
      "source": [
        "---\n",
        "## **6. Command line question**"
      ]
    },
    {
      "cell_type": "code",
      "execution_count": null,
      "metadata": {
        "id": "IlihMLkKARe-"
      },
      "outputs": [],
      "source": []
    },
    {
      "cell_type": "markdown",
      "metadata": {
        "id": "B_eW_Q1-ARH1"
      },
      "source": [
        "---\n",
        "## **7. Theoretical question**"
      ]
    },
    {
      "cell_type": "code",
      "execution_count": null,
      "metadata": {
        "id": "0P8LDEG4ARBq"
      },
      "outputs": [],
      "source": []
    }
  ],
  "metadata": {
    "colab": {
      "authorship_tag": "ABX9TyMQi+HtM3/4HET+IBhxwQTa",
      "include_colab_link": true,
      "provenance": []
    },
    "kernelspec": {
      "display_name": "Python 3.8.8 ('base')",
      "language": "python",
      "name": "python3"
    },
    "language_info": {
      "codemirror_mode": {
        "name": "ipython",
        "version": 3
      },
      "file_extension": ".py",
      "mimetype": "text/x-python",
      "name": "python",
      "nbconvert_exporter": "python",
      "pygments_lexer": "ipython3",
      "version": "3.8.8"
    },
    "vscode": {
      "interpreter": {
        "hash": "a677b9c6974bf760ca3b8e2af46be3b9e8de7ec986fefdffccea221189f77b6f"
      }
    }
  },
  "nbformat": 4,
  "nbformat_minor": 0
}

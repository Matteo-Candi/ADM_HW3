{
 "cells": [
  {
   "cell_type": "markdown",
   "id": "5792b053",
   "metadata": {},
   "source": [
    "# Exmple"
   ]
  },
  {
   "cell_type": "code",
   "execution_count": null,
   "id": "727d92eb",
   "metadata": {},
   "outputs": [],
   "source": [
    "import requests\n",
    "import bs4\n",
    "from bs4 import BeautifulSoup"
   ]
  },
  {
   "cell_type": "code",
   "execution_count": null,
   "id": "52143fa7",
   "metadata": {},
   "outputs": [],
   "source": [
    "url = 'https://www.atlasobscura.com/places/berliner-unterwelten-subterranean-berlin'"
   ]
  },
  {
   "cell_type": "code",
   "execution_count": null,
   "id": "fc743d35",
   "metadata": {},
   "outputs": [],
   "source": [
    "result = requests.get(url)"
   ]
  },
  {
   "cell_type": "code",
   "execution_count": null,
   "id": "2f1f1bd7",
   "metadata": {},
   "outputs": [],
   "source": [
    "result.text"
   ]
  },
  {
   "cell_type": "code",
   "execution_count": null,
   "id": "72dc7efb",
   "metadata": {},
   "outputs": [],
   "source": [
    "soup = BeautifulSoup(result.text)"
   ]
  },
  {
   "cell_type": "code",
   "execution_count": null,
   "id": "1a58925c",
   "metadata": {},
   "outputs": [],
   "source": [
    "soup.find_all('a')   # looking for tags"
   ]
  },
  {
   "cell_type": "code",
   "execution_count": null,
   "id": "0b5f08f4",
   "metadata": {},
   "outputs": [],
   "source": [
    "soup.find_all('img')"
   ]
  },
  {
   "cell_type": "markdown",
   "id": "31e63bcb",
   "metadata": {},
   "source": [
    "Begin to use in Berlin file"
   ]
  },
  {
   "cell_type": "code",
   "execution_count": null,
   "id": "e0bfe824",
   "metadata": {},
   "outputs": [],
   "source": [
    "for item in soup.find_all('h1'):\n",
    "    if 'DDPage__header-title' in item.get('class'):\n",
    "        print(item.contents[0])"
   ]
  },
  {
   "cell_type": "code",
   "execution_count": null,
   "id": "dcbee291",
   "metadata": {},
   "outputs": [],
   "source": [
    "soup.find_all('h1', {'class': \"DDPage__header-title\"})[0].contents[0]"
   ]
  },
  {
   "cell_type": "code",
   "execution_count": null,
   "id": "590d0042",
   "metadata": {},
   "outputs": [],
   "source": [
    "soup.find_all('h3', {'class': \"DDPage__header-dek\"})[0].contents[0]"
   ]
  },
  {
   "cell_type": "code",
   "execution_count": null,
   "id": "c696d509",
   "metadata": {},
   "outputs": [],
   "source": [
    "soup.find_all('div', {'class': \"DDPage__header-place-location\"})[0].contents[0].contents"
   ]
  },
  {
   "cell_type": "markdown",
   "id": "38d412db",
   "metadata": {},
   "source": [
    "# Super function"
   ]
  },
  {
   "cell_type": "code",
   "execution_count": null,
   "id": "89c33d02",
   "metadata": {},
   "outputs": [],
   "source": [
    "def extract_single_place(url):\n",
    "    result = requests.get(url)\n",
    "    soup = BeautifulSoup(result.text)\n",
    "    title = soup.find_all('h1', {'class': \"DDPage__header-title\"})[0].contents[0]\n",
    "    short_description = soup.find_all('h3', {'class': \"DDPage__header-dek\"})[0].contents[0]\n",
    "    \n",
    "    \n",
    "    location_tag = soup.find_all('div', {'class': \"DDPage__header-place-location\"})[0].contents[0]\n",
    "    if type(location_tag) == bs4.element.NavigableString:\n",
    "        location = location_tag.text\n",
    "    else:\n",
    "        location = location_tag.contents[0].text\n",
    "        \n",
    "    long_description = [x.text for x in soup.find_all('div', {'id': 'place-body'})]\n",
    "    \n",
    "    \n",
    "    return{'title': title,\n",
    "           'location': location,\n",
    "           'short_description': short_description,\n",
    "            'long_description': long_description}"
   ]
  },
  {
   "cell_type": "code",
   "execution_count": null,
   "id": "502a7120",
   "metadata": {},
   "outputs": [],
   "source": [
    "extract_single_place('https://www.atlasobscura.com/places/berliner-unterwelten-subterranean-berlin')"
   ]
  },
  {
   "cell_type": "markdown",
   "id": "c63f9cc4",
   "metadata": {},
   "source": [
    "\n",
    "# List of Places"
   ]
  },
  {
   "cell_type": "code",
   "execution_count": 8,
   "id": "be9df3f2",
   "metadata": {},
   "outputs": [],
   "source": [
    "from tqdm import tqdm"
   ]
  },
  {
   "cell_type": "code",
   "execution_count": 9,
   "id": "728df9d8",
   "metadata": {},
   "outputs": [],
   "source": [
    "url = 'https://www.atlasobscura.com/places?page=1&sort=likes_count'"
   ]
  },
  {
   "cell_type": "code",
   "execution_count": 10,
   "id": "d42a044e",
   "metadata": {},
   "outputs": [],
   "source": [
    "list_page = requests.get(url)\n",
    "list_soup = BeautifulSoup(list_page.text)"
   ]
  },
  {
   "cell_type": "code",
   "execution_count": 11,
   "id": "2af6df46",
   "metadata": {},
   "outputs": [],
   "source": [
    "list_places = [x.get('href') for x in list_soup.find_all('a', {'class':\"content-card content-card-place\"})]"
   ]
  },
  {
   "cell_type": "code",
   "execution_count": 12,
   "id": "61ed2b92",
   "metadata": {},
   "outputs": [
    {
     "data": {
      "text/plain": [
       "['/places/city-hall-station',\n",
       " '/places/highgate-cemetery',\n",
       " '/places/leadenhall-market',\n",
       " '/places/wave-organ',\n",
       " '/places/catacombes-de-paris',\n",
       " '/places/evolution-store',\n",
       " '/places/magowans-infinite-mirror-maze',\n",
       " '/places/underground-tunnels-los-angeles',\n",
       " '/places/secret-tiled-staircase',\n",
       " '/places/dream-house',\n",
       " '/places/the-museum-of-death-los-angeles-california',\n",
       " '/places/last-bookstore',\n",
       " '/places/gods-own-junkyard',\n",
       " '/places/echo-park-time-travel-mart',\n",
       " '/places/the-ruins-of-st-dunstan-in-the-east-london-england',\n",
       " '/places/fingal-s-cave',\n",
       " '/places/wave-rock',\n",
       " '/places/winchester-mystery-house']"
      ]
     },
     "execution_count": 12,
     "metadata": {},
     "output_type": "execute_result"
    }
   ],
   "source": [
    "list_places"
   ]
  },
  {
   "cell_type": "code",
   "execution_count": 13,
   "id": "4f34f22b",
   "metadata": {},
   "outputs": [],
   "source": [
    "data = {}"
   ]
  },
  {
   "cell_type": "code",
   "execution_count": 14,
   "id": "d205c663",
   "metadata": {},
   "outputs": [
    {
     "name": "stderr",
     "output_type": "stream",
     "text": [
      "100%|██████████████████████████████████████████████████████████████████████████████████| 18/18 [00:19<00:00,  1.08s/it]\n"
     ]
    }
   ],
   "source": [
    "for places in tqdm(list_places):\n",
    "    if not places in data:\n",
    "        extract = extract_single_place('https://www.atlasobscura.com' + places)\n",
    "        data[places] = extract"
   ]
  },
  {
   "cell_type": "code",
   "execution_count": 15,
   "id": "c8a9b859",
   "metadata": {},
   "outputs": [
    {
     "data": {
      "text/plain": [
       "{'/places/city-hall-station': {'title': 'City Hall Station',\n",
       "  'location': 'Manhattan, New York',\n",
       "  'short_description': 'A beautiful and abandoned New York subway station from 1904, complete with chandelier.\\xa0',\n",
       "  'long_description': ['\\n\\nThe first New York City subway was built and operated by the Interborough Rapid Transit Company (IRT) and opened on October 27, 1904, to the joy of New York elevated train and streetcar riders.\\nThe City Hall station on the IRT local track was lavished with fine architectural details, including glass tiles and large chandeliers. However, the Gustavino vaulted ceilings and skylights were lost on busy commuters, and the stop was one of the least-used in the system. It was the only station that did not have turnstiles installed by 1923, and the nearby Brooklyn Bridge stop was frequented by the express train and closer to connecting streetcars.\\n\\xa0\\nBecause of the curved platform, cars with center doors could not be used at this station unless they had specially modified door controls which allowed just the end doors to be opened. In 1945, the station was closed when platforms along the line were being lengthened to accommodate longer trains, and the number of passengers using this station dwindled to very few.\\nAnother factor leading to the decline of the station’s use was the fact that a person boarding the train at City Hall with a station intended destination below City Hall or in Brooklyn would wind up on the uptown platform at the Brooklyn Bridge station. They would then have to go upstairs and down to the downtown platform to continue their journey. It was much easier to walk the short distance at street level to the Brooklyn Bridge station.\\nUp until the late 1990’s the passengers on the Lexington Avenue Local (today’s 6 train) had to disembark from the train at the Brooklyn Bridge stop. That is no longer the case. The skylights have been reopened, and the station lights turned back on. While passengers can not get out of the train and experience the City Hall Station as they once might have, they can stay on the train as it loops around on those tracks and heads back north.\\nThe New York City Transit Museum hosts periodic tours of the abandoned station; however, you must be a member of the museum to attend. Check the website for details.\\n\\n']},\n",
       " '/places/highgate-cemetery': {'title': 'Highgate Cemetery',\n",
       "  'location': 'London, England',\n",
       "  'short_description': \"London's creepiest cemetery was once the site of dueling magicians and mobs of stake-carrying vampire hunters.\\xa0\",\n",
       "  'long_description': ['\\n\\nOpened in 1839, Highgate is one of London’s most infamous cemeteries, originally opened as one of the city’s “Magnificent Seven” park cemeteries. The initial design was carried by architect Stephen Geary.\\nAmong the impressive Victorian and Egyptian influenced tombs are the gravestones of Karl Marx (recognizable by the glowering bearded bust); sci-fi author Douglas Adams; James Holman, a sightless 19th-century adventurer known as “the Blind Traveler” (a pioneer of “human echolocation,” he was able to sense his surroundings by the reverberations of a tapped cane or horse’s hoof-beats); and Adam Worth, a famous criminal and the possible inspiration for Sherlock Holmes’s nemesis, Professor Moriarty.\\nComprised of Kensal Green, Highgate, West Norwood, Abney Park, Nunhead, Brompton and Tower Hamlets cemeteries, the Magnificent Seven were created in 1832 as part of an effort to move burials out of the City of London in response to the twin pressures of the health concerns about overcrowded churchyard cemeteries, and desires for build-able land in the rapidly expanding city.\\nThe cemetery’s tombs and buildings are constructed in an imposing Victorian Gothic style and during the mid- to late 1800s it was a highly sought-after burial ground. However, by the end of WWII the cemetery was overgrown, unattended, and in serious disrepair, all of which added to its creepy feel. In the 1970s the infamous cemetery became the location for another English Gothic tradition, the horror films of movie studio Hammer.\\xa0 These films regenerated public interest in the cemetery, and stories of grave robbing, desecration,\\xa0and vampires in Highgate began appearing in the news.\\nAs described in the book Beyond the Grave, “Many claimed to see a particular creature hovering over the graves. Scores of ‘vampire hunters’ regularly converged on the graveyard in the dead of night. Tombs were broken open and bodies were mutilated with wooden stakes driven into their chests. These stolen corpses, turning up in strange places, continuously startled local residents. One horrified neighbor to the cemetery discovered a headless body propped behind the steering wheel of his car one morning!”\\nKnown as the Highgate Vampire Sensation it culminated in 1970 with two magicians, Farrant and Manchester, claiming that each would be the first to find and kill the supposed vampire. Manchester announced an official vampire hunt, and on Friday the 13th, “a mob of ‘hunters’ from all over London swarmed over gates and walls into the locked cemetery, despite police efforts to control them.”\\nThe two magicians were supposed to settle the debate with a “magicians’ duel” but it never happened. Farrant was arrested in the churchyard next to Highgate Cemetery with a crucifix and a wooden stake and in 1974 was jailed “for damaging memorials and interfering with dead remains in Highgate Cemetery.” Though neither magician found the supposed vampire, in the various “hunts” graves were ransacked and real corpses were indeed staked and beheaded.\\nThe debate between Farrant and Manchester continues to this day, while the cemetery remains a popular location for occult, paranormal and vampiric enthusiasts.\\n\\n']},\n",
       " '/places/leadenhall-market': {'title': 'Leadenhall Market',\n",
       "  'location': 'London, England',\n",
       "  'short_description': 'This ornate Victorian marketplace was the setting for Diagon Alley and the Leaky Cauldron in the Harry Potter films.\\xa0',\n",
       "  'long_description': ['\\n\\nThe ornate 19th-century painted roof and cobbled floors of Leadenhall Market, located in the historic center of London’s financial district, make it a rather\\xa0magical\\xa0place to do a bit of shopping—even before it played a starring role in the\\xa0Harry Potter films.\\nThis covered Victorian market\\xa0is one of the oldest markets in London, selling meat and fish as far\\xa0back as the 14th century. The current green and red roof, however, was constructed in 1881 and made Leadenhall Market a popular attraction in London.\\nThe marketplace\\xa0was featured a few times in the\\xa0Harry Potter\\xa0series—it was the film location for some of the original exterior shots of Diagon Alley, the cobblestoned shopping hub of the wizarding world where Hogwarts students can stock up on\\xa0school supplies like spellbooks and wands.\\nToday if you wander down the market’s Bull’s Head Passage you may recognize\\xa0the blue door\\xa0of an optics shop (an empty storefront at the time of shooting)\\xa0as the entrance to the Leaky Cauldron in Goblet of Fire. In the films, the magical Diagon Alley is accessible to wizards and witches from London through the Leaky Cauldron, an unassuming pub wedged next to\\xa0a record store. If only that were true for us Muggles.\\n\\n']},\n",
       " '/places/wave-organ': {'title': 'The Wave Organ',\n",
       "  'location': 'San Francisco, California',\n",
       "  'short_description': 'A huge musical instrument played by the ocean.\\xa0',\n",
       "  'long_description': ['\\n\\nLocated on a jetty in the San Francisco Bay, the Wave Organ was built in 1986. In collaboration with the Exploratorium, artist Peter Richards built an acoustic sculpture that amplifies the sounds of the waves in the bay.\\nThe organ’s jetty was constructed with carved granite and marble from a demolished cemetery. Magnificently old and finely worked pieces form the irregular terraced seating and even a trash can holder.\\xa0The instrument itself is comprised of more than 20 PVC and concrete pipes that extend down into the water at various elevations. The sound is created by waves crashing against the ends of these pipes. When the waves roll in, the pipes resound with liquid music: low, gurgling notes that ebb and flow with the restless movement of the ocean and the changing of the tides.\\nWhat makes the music? It is similar to the phenomena of the sound heard in a conch shell—a specific volume of air resonating at a specific frequency. The same sort of thing happens in the pipes of the Wave Organ, but there is one important difference. In the Wave Organ, the columns of air within the pipes constantly change as the water moves in and out, and as the length and volume of the air column in each pipe changes, the pitch of the sound it produces also varies. The larger the volume of air, the lower the sound; the smaller the volume of air, the higher the sound.The park-like setting on the lee side of the breakwater has a view of San Francisco’s Marina District, downtown San Francisco’s skyline, the East Bay hills, Sausalito, Mt. Tamalpais, the Presidio, the Golden Gate Bridge, and the Marin Headlands. Fishermen are often at the organ in the morning, which after the walk by the marina can feel like a detached place of peace within the city.\\n\\n']},\n",
       " '/places/catacombes-de-paris': {'title': 'Catacombes de Paris',\n",
       "  'location': 'Paris, France',\n",
       "  'short_description': 'The vast, legendary catacombs hold secrets much stranger than stacked bones. \\xa0',\n",
       "  'long_description': ['\\n\\nIn 2004, Parisian police were assigned to do a training exercise in a previously uncharted part of the Catacombs of Paris beneath the Palais de Chaillot. Entering the catacombs through a drain, officers first came across a sign that read “Building site, no access,” and a bit further in, a camera that actively recorded images of those who passed. As the officers approached the camera, a recording of dogs barking was triggered.\\nThe police descended deeper into the tunnels and discovered a 500-square-meter cavern with a fully equipped cinema. It included a giant cinema screen, projection equipment, chairs and a handful of films, from film noir classics to recent thrillers. Someone had turned this abandoned underground cavern into a secret amphitheater. Aside from this, in the next “room,” police discovered a fully-stocked bar and restaurant, complete with tables and chairs. The discovery left police befuddled, not to mention the professional installation of electricity and three phone lines.\\nThree days later, police returned with experts from the French Board of Electricity to try and figure out where the power was coming from. The cables had been cut and a note lying on the floor read, “Do not try and find us.”\\nQuarry tunnels have existed on the outskirts of Paris since Roman times. The limestone in these quarries built Paris as we know it today, and eventually, helped the city expand to the point where the quarries were directly underneath the busy metropolis. Some 200 miles of labyrinthine tunnels are believed to exist.\\nDespite the vast length of the tunneled, underground world, only a small section of it is open to the public. This tiny portion, known as Denfert-Rochereau Ossuary, or more popularly, “The Catacombs,” has become one of the top tourist attractions in Paris.\\nThe popular site houses the skeletal remains of some six to seven million former Parisians. Not all areas of the Catacombs are open to the public. Back in the late 18th century, cemeteries were becoming over-populated. Cemeteries such as Les Innocents were so stuffed with the dead that it led to improper burials, open graves, and unearthed corpses. Neighbors began getting sick with infectious diseases due to the unhealthy conditions of the cemetery.\\nLes Innocents was not the only cemetery that was condemned. Many other graveyards were becoming overpopulated, causing problems for the inhabitants of Paris. With tons of empty quarries, police and priests alike discreetly moved the bones to the renovated section of the tunnel over the period between 1787 and 1814.\\xa0\\xa0As some notable people were buried in those “crowded” cemeteries, it is likely that their bones were transferred to the Catacombs. Some of the prominent Frenchmen whose bones might be placed in the Catacombs are Charles Perrault (famous for Little Red Riding Hood, Puss in Boots, and Cinderella), Jean de La Fontaine (known for Fables), Simon Vouet (painter), Salomon de Brosse (architect who designed Luxemburg Palace in Paris), and François Girardon (sculptor).\\xa0\\nThe Catacombs became a popular attraction for royal families and the people of importance and in 1867, the area was opened to the general public.\\nDue to their old age, the quarries not part of the official Catacombs have been deemed unsafe by Parisian officials. Nevertheless, the size and length of the tunnels make it difficult to keep secret societies, thieves, artists and the curious public from entering the dangerous network.\\nIn the 1980s, a movement was dedicated to the exploration of the tunnels. After the discovery of the secret cinema, Patrick Alk, a photographer close to the group responsible said the discovery “was a shame, but not the end of the world.” There are dozens of other meeting places just like the one the police discovered in the mysterious labyrinth. He concluded, saying, “you guys have no idea what’s down there.”\\nDue to vandalism and the theft of several skulls, the catacombs were closed from October 2009 through December of the same year. With the reopening of the site comes additional security and bag checks upon exiting.\\n\\n']},\n",
       " '/places/evolution-store': {'title': 'The Evolution Store',\n",
       "  'location': 'Manhattan, New York',\n",
       "  'short_description': 'A terrific purveyor of natural history objects and curios.\\xa0',\n",
       "  'long_description': ['\\n\\nEvolution stands out among the clothing stores and restaurants in Manhattan’s SoHo art district as a truly distinctive and handsome shop. Tucked into every corner and crevice of the store are unique natural history collectibles. Framed butterflies and insects line the walls, fossils and seashells in jars crowd wide tables, tribal art fills glass cases, skulls and skeletons hang from the ceiling, and medical models and posters fill every spare space.\\nEvolution’s staff is knowledgeable and enthusiastic and they welcome questions about their wares. Their specimens are acquired from the same experts who supply museums and are of high quality.\\n\\n']},\n",
       " '/places/magowans-infinite-mirror-maze': {'title': \"Magowan's Infinite Mirror Maze\",\n",
       "  'location': 'San Francisco, California',\n",
       "  'short_description': 'A psychedelic labyrinth on the San Francisco bay.\\xa0',\n",
       "  'long_description': ['\\n\\nPeople stumble about the labyrinth, arms outstretched. Even so, they sometimes find themselves smacking headfirst into their own reflection. Shrieking and giggling when they reach someone else they ask, “are you real?”\\nThis maze is contained in a nondescript building on San Francisco’s Pier 39. It’s a disorienting dungeon of columns and mirrors, lit by blacklight and flashing neon and scored by rave music. Once you’ve managed to make it through the purveyors have been known to recommend trying it again, this time backwards.\\nThis trippy scene is standard fare at Magowan’s Infinite Mirror Maze for visitors of all ages, no drugs required (or recommended for that matter). Its founder calls it “one part art, one part science.” The trick is simple–you’ve probably seen it before at a carnival–but the effect\\xa0is still enchanting.\\nUpdate February 2018: It appears the maze is now back open for\\xa0business, after closing briefly with no explanation.\\n\\n']},\n",
       " '/places/underground-tunnels-los-angeles': {'title': 'Underground Tunnels of Los Angeles',\n",
       "  'location': 'Los Angeles, California',\n",
       "  'short_description': 'During prohibition, corrupt city officials ran drinking dens under the streets of Downtown Los Angeles.\\n\\xa0',\n",
       "  'long_description': ['\\n\\nWhile the rest of the country was forced to go dry, underneath Downtown Los Angeles the party never stopped.\\nDespite prohibition laws, 11 miles of service tunnels became passageways to basement speakeasies with innocuous fronts above ground. Patrons were able to move about under the city, boozing it up without a care in the world, while the Mayor’s office ran the supply of hootch.\\nKing Eddy Saloon, an establishment that has been alive and kicking on 5th and Main since the 1900s, hid in plain sight fronting as a piano store. Luckily, local officials took no issue with King Eddy’s sudden interest in music, and the business not only survived, but prospered. Now an official saloon once more, its basement still remains part of the tunnel system, littered with crumbling brick lines and graffiti murals.\\nAside from the service tunnels, there are also abandoned subway and equestrian tunnels from the days before personal vehicles began clogging up LA’s city streets. There are stories of these tunnels being used by police to transport prisoners, bank security to move large sums of cash safely, and both coroners and mobsters to store bodies. Now they are mostly closed off, but some are still accessible and are used as film locations, easy shortcuts by city employees between buildings, and a place for runners to train on the rare occasion of bad weather.\\nTo explore the former highway of the LA underground, you must slip behind the Hall of Records on Temple Street and locate an easy-to-miss elevator. You’ll be transported down into a subterranean passage filled with mysterious street art, rusted machinery, and iron gates that limit your exploration to areas deemed earthquake safe. Officially, the tunnels are closed to the public.\\n\\n']},\n",
       " '/places/secret-tiled-staircase': {'title': 'Secret Tiled Staircase',\n",
       "  'location': 'San Francisco, California',\n",
       "  'short_description': 'An artsy hidden staircase leads to breathtaking views of San Francisco.\\xa0',\n",
       "  'long_description': ['\\n\\nThe 16th Avenue Staircase is 163 steps of mosaic tiles, a colorful staircase hidden in the quiet Sunset district of San Francisco. This neighborhood has few other tourist draws, but those who find the staircase will be rewarded with sweeping views of the city, and a beautiful garden design including succulents and native habitat plants for the Green Hairstreak butterfly. \\xa0The site is an important waypoint on San Francisco’s famous butterfly-bolstering Green Hairstreak Corridor.\\nThe project began in 2003 and was completed in 2005, with the help of artists and many neighborhood volunteers, and was inspired by the Selarón staircase in Rio de Janeiro, a brightly colored tiled staircase and popular tourist destination.\\nAll the mosaics are donated by the community. At the very top is the sun (the stairs ascend from “sea Level” to the sun—get it?). There’s also another garden at the bottom and one of the last crops of Franciscan formation at the top (it has its own biozone!).\\nThe artists for this stairway are Collette Crutcher and Aileen Barr.\\n\\n']},\n",
       " '/places/dream-house': {'title': 'Dream House',\n",
       "  'location': 'Manhattan, New York',\n",
       "  'short_description': 'La Monte Young and Marian Zazeela\\'s \"Dream House\" will immerse you in an ever changing world of sound and light.\\xa0',\n",
       "  'long_description': ['\\n\\nWhen walking down Church Street in Tribeca, keep an eye out for a black door with a cryptic white sign that reads THE DREAM HOUSE. Although this is not your typical dream house with a 4-door garage, it guarantees to be a one-of-a-kind experience, with its completely absorbing, constantly fluctuating sound waves accompanied by neon pink reflections of light.\\nCreated in 1993 by modern composer La Monte Young and visual artist Marian Zazeela (who are married to one another), this is the culmination of 40 years of their work. Zazeela explains that “together, the sound and light can be experienced as a new form or new media: the sound and light environment. The experience of the two mediums together as one requires a new, or at least different, mode of attention.” For example, unless you are completely still, be prepared to encounter a new collection of pitches with every move you make, as you encounter the various resonating sound fields created by Young.\\nYoung and Zazeela invite you to dive into their dream world, Wednesday through Saturday from 2PM-Midnight. Admission is $10.00– walk right in.\\nUpdate August 2018: There is a restaurant at this address now. Dream House is on the third floor above the restaurant, denoted only by a paper sign.\\xa0\\n\\n']},\n",
       " '/places/the-museum-of-death-los-angeles-california': {'title': 'The Museum of Death',\n",
       "  'location': 'Los Angeles, California',\n",
       "  'short_description': \"World's largest collection of serial killer artwork and other macabre exhibits.\\xa0\",\n",
       "  'long_description': ['\\n\\nThe Museum of Death, a showcase of just that, was originally founded in San Diego in 1995. In 2000, proprietors James Healy and Cathee Shultz moved the museum to its current location in Los Angeles, and expanded to what is now the largest collection of serial murderer artwork, photos of the Manson crime scenes, original photos from the Dahlia Murders, and other such relics of the violent, fatal and macabre.\\nOther exhibits in the museum include the guillotined, severed head of Henri Landru, a body bag and coffin collection, full size replicas of execution devices, mortician and autopsy instruments (and pictures and video of such in use), taxidermy showcases, the Heaven’s Gate Cult recruiting video and more.\\nIf you’ve managed to read this far, then the Museum of Death just might be a must-see destination for your inner-ghoul. The museum is a self-guided tour that lasts about an hour, but, of course, you’re welcome to stay as long as you like (if you’re up to it).\\n“I think it shocks people, but its a good shock,” said Healy. “Seeing all these artifacts of death in one place reminds people how precious life is.”\\nUpdate as of February 2020: The museum is currently closed as they prepare to relocate to a new location.\\xa0\\n\\n']},\n",
       " '/places/last-bookstore': {'title': 'The Last Bookstore',\n",
       "  'location': 'Los Angeles, California',\n",
       "  'short_description': 'This iconic L.A. bookshop is housed in an abandoned bank—both symbolic and chic.\\xa0',\n",
       "  'long_description': ['\\n\\nMore than a few bibliophiles would prefer that their prized possessions be kept in a bank vault as opposed to a bookshelf, but few actually get to see their dream in action. Enter The Last Bookstore, an iconic Los Angeles book shop with a not-so-subtly symbolic name that is housed in the grand atrium of what was once a bank.\\nThe marble pillars and mile-high ceiling remain from the old bank, but in place of patrons and guarded stacks of cash, bookshelves line the walls and artful displays of books abound.\\nNot to imply that everything is brand new and sparkly. The bookstore actually specializes in reasonably priced used books, and takes great pride in offering a selection of well-kept vintage books as well. Anyone who’s ever loved a vintage book will know exactly what that means for the musty, decadent smell that hangs in the air in this seemingly sacred place.\\nAlmost as if to make a point about beauty in disarray, the bookshelves are placed every which way all throughout the store, and sculptures have been custom-built from overstocked or damaged copies. There are even hidden nooks, like the old bank vault itself, where books are winkingly displayed.\\nThere is a section of hardbacks arranged by color. Most of the fiction is purposefully unarranged, meant to inspire treasure hunts among shoppers.\\xa0In short, every inch of the place is designed to make book lovers fall in love with it, and it succeeds.\\n\\n']},\n",
       " '/places/gods-own-junkyard': {'title': \"God's Own Junkyard\",\n",
       "  'location': 'London, England',\n",
       "  'short_description': 'A kaleidoscopic warehouse-maze of handmade neon signs.\\xa0',\n",
       "  'long_description': ['\\n\\nFor years, Walthamstow was known as an unremarkable district of gray streets and drab flats on the northeast fringe of London. More recently, the city’s gentrification has brought an influx of young creatives and curious hipsters into the neighborhood. These two faces of Walthamstow come together in the purple haze of God’s Own Junkyard.\\nGod’s Own Junkyard is a kaleidoscopic warehouse-maze of handmade neon signs that blazes forth in an old industrial estate like a Vegas mirage.\\xa0Curated by third-generation neon artisan Marcus Bracey, GOJY serves many functions: free art gallery and Instagram bonanza for the public; dealer and recycler of signage for businesses; prop shop for film and photo shoots; and lucrative customer for the local electric utility.\\nThe collection includes thousands of signs, props, and figures, all displayed within a single warehouse space. Cheerful emblems for diners and hotels wink from wall to wall. Every form of disreputable fun is represented in bright light, stacked from the floor and hung from the ceiling: cocktails, karaoke, rock ‘n’ roll, pinball, disco, casinos. Neon-trimmed religious images share space with lurid displays designed for, or inspired by, the retro carnal vice dens of old Soho.\\nAs Bracey told The Independent newspaper while describing his creative process, “you stand back and look at it, and that’s what really gives you the kick.” \\n\\n']},\n",
       " '/places/echo-park-time-travel-mart': {'title': 'The Echo Park Time Travel Mart',\n",
       "  'location': 'Los Angeles, California',\n",
       "  'short_description': 'Non-profit time travel mart sells goods you would need for a trip through the fourth dimension.\\xa0',\n",
       "  'long_description': ['\\n\\nHave you ever traveled through time and foolishly forgotten your Pastport? Woken up in the morning and realized you’re fresh out of dinosaur eggs for breakfast? Discovered that your robot is out of milk…and has lost its toupee? Thankfully, The Echo Park Time Travel Mart has all the necessary supplies for your trip to the fourth dimension – and yes, that apparently includes robot toupees!\\nBrought to you by 826, the same organization responsible for the Superhero Supply store in Brooklyn and the Pirate Supply Company in San Francisco, The Echo Park Time Travel Mart is a time travel-themed retail store that boasts the slogan, “Whenever you are, we’re already then.” The store sells humorous relics from the past, present and future, such as Barbarian Repellent, Michael Jordan pogs and varying Robot Emotions.\\nThe store is located in the historic Echo Park neighborhood of Los Angeles, California and like all other 826 shops, functions as both a retail space and literacy tutoring center. Though the storefront window displays a caveman mannequin shaking hands with a robot, the back of the building houses the non-profit organization, where 20-30 students per day are tutored in creative and expository writing.\\nAll proceeds from the Echo Park Time Travel Mart go to funding the non-profit organization, and the playful store theme serves to inspire creativity in its students, as well as bring a unique way of advertising 826LA to the local community. Though the shop primarily features quirky time travel items, such as Time-Freezy Hyper Slush ice drinks and Wooly Mammoth Chunks, visitors can also browse and purchase the students’ publications, which are appropriately displayed in a freezer.\\nWe toured LA with the Time Travel Mart on Obscura Day - March 20th, 2010. Photos, stories and more here \\n\\n']},\n",
       " '/places/the-ruins-of-st-dunstan-in-the-east-london-england': {'title': 'The Ruins of St. Dunstan-in-the-East',\n",
       "  'location': 'London, England',\n",
       "  'short_description': 'One of the few remaining casualties of the London Blitz, this destroyed church has become an enchanting public garden.\\xa0',\n",
       "  'long_description': ['\\n\\nThe church of St.Dunstan-in-the-East has survived a lot during its 900-year history, including the Great Fire of London in 1666.\\nAn English parish church located halfway between the Tower of London and the London Bridge, it was originally built during Norman times. Although the Great Fire caused terrible damage to the church it was faithfully rebuilt, and topped with a steeple designed by Sir Christopher Wren.\\xa0\\nBut in 1941, the church was devastated by the Blitz. A direct hit destroyed everything apart from the north and south walls, and Wren’s steeple. The threat of German invasion of the United Kingdom had ended with the Battle of Britain a year earlier, but the sustained strategic bombing of the UK continued. By 1941, the Blitz was reaching its terrible crescendo. Starting on September 7th, 1940, London was bombed for nearly 60 consecutive nights. The night of December 29th saw the most ferocity, as the Luftwaffe blanketed\\xa0London with bombs in what was called the Second Great Fire of London.\\xa0\\nBy the end of the Blitz, over 1,000,000 London homes were destroyed, including much of the old Saxon church. After the war, with much of London in rubble, the slow rebuilding process began. But St. Dunstan-in-the-East remained in ruins. In 1967, the City of London Corporation decided to turn the bombed out shell of the church into a public garden, which remains to this day.\\nHidden away on a secluded side street, and long since dwarfed by the modern steel and chrome structures of the city, it remains one of London’s secret gardens. One of the last Blitz-damaged buildings left in the United Kingdom, overgrown with trees, ivy, and wall climbing flowers growing amongst the ruined arches, it’s a poignant living memorial to the horrors of the Blitz and a testament to the resilience of the City of London which survived it.\\xa0\\n\\n']},\n",
       " '/places/fingal-s-cave': {'title': \"Fingal's Cave\",\n",
       "  'location': 'Isle of Staffa, Scotland',\n",
       "  'short_description': 'This astonishingly geometric cave has inspired everyone from Jules Verne to Pink Floyd.\\xa0',\n",
       "  'long_description': ['\\n\\nQueen Victoria, Matthew Barney, Jules Verne, and Pink Floyd are not names you usually hear in the same sentence, but then the place that they all share is itself quite uncommon. Known as Fingal’s Cave, it bears a history and geology unlike any other cave in the world.\\nAt 72\\xa0feet tall and 270 feet deep, what makes this sea cave so visually astoundingly is the hexagonal columns of basalt, shaped in neat six-sided pillars that make up its interior walls. These fractured columns form a crude walkway just above the water level so that visitors can go far inside and explore the cave.\\nThe cave was a well-known wonder of the ancient Irish and Scottish Celtic people and was an important site in the legends. Known to the Celts as Uamh-Binn or “The Cave of Melody,” one Irish legend,\\xa0in particular, explained the existence of the cave as well as that of the similar Giant’s Causeway\\xa0in Ireland. As both are made of the same neat basalt columns, the legend holds that they were the end pieces of a bridge built by the Irish giant Fionn mac Cumhaill (a.k.a. Finn McCool), so he could make it to Scotland where he was to fight Benandonner, his gigantic rival.\\nThe legend, which connects the two structures, is in effect geologically correct. Both the Giant’s Causeway and Fingal’s Cave were indeed created by the same ancient lava flow, which may have at one time formed a “bridge” between the two sites. Of course, this happened some 60 million years ago, long before people would have been around to see it. Nonetheless, the deductive reasoning of the ancient peoples formed the connection and base of the legend that the two places must be related.\\nThe cave was rediscovered when naturalist Sir Joseph Banks visited it in 1772. At the time of Banks’ discovery, Fingal, an Ancient Epic Poem in Six Books\\xa0was a very popular poetic series, supposedly translated from an ancient Gaelic epic by Irish poet James Macpherson. The book was an influence on Goethe, Napoleon, and Banks, who promptly named the Scottish cave, which already had the name Uamh-Binn, after the Irish legend, calling it “Fingal’s Cave.”\\nAnd though Banks is responsible for both rediscovering and renaming the cave, it would be a romantic German composer who truly vaulted the cave to world fame.\\nSo moved was famed composer Felix Mendelssohn by the splendor of the cave that he sent the opening phrase of an overture on a postcard to his sister with the note: “In order to make you understand how extraordinarily the Hebrides affected me, I send you the following, which came into my head there.” The Hebrides Overture, also known as Fingal’s Cave, premiered on May 14, 1832, in London. (The original name may have been based on the amazing noises the cave sometimes produces.)\\nIn a one-two Romantic punch, artist J. M. W. Turner painted “Staffa, Fingal’s Cave” in the same year and together these launched the cave from a little-known wonder into a must-see Romantic-Victorian tourist site. William Wordsworth, John Keats, Lord Tennyson, and Queen Victoria all visited the cave as did consummate traveler and lover of wonders, Jules Verne.\\nAfter this, the cave never left the public imagination. Pink Floyd named one of their early, unreleased songs after the cave, and Matthew Barney used the cave in his Cremaster cycle.\\nOne can visit the cave via cruise (though boats cannot enter the cave, they make regular passes by it) or can travel to the small island of Staffa and hike into the cave by stepping from column to column. By the way, northern shores of Staffa host a puffin colony during the summer months.\\n\\n']},\n",
       " '/places/wave-rock': {'title': 'The Wave',\n",
       "  'location': 'Marble Canyon, Arizona',\n",
       "  'short_description': 'Rippling sand dunes frozen in the Arizona rock.\\xa0',\n",
       "  'long_description': ['\\n\\n190 million years ago, one of the greatest geological formations in the world began to take shape.\\nIn the Coyote Buttes ravine, some 5,225 feet above sea level, stands Arizona’s the Wave. The Wave has a remarkable undulating appearance, with massive sandstone structures stretched like taffy and cinnamon color strata domes. It is, in a way, a geological snapshot in time, a still shot of the effect natural forces have on the environment.\\nThe Wave is comprised of Navajo Sandstone dunes that have calcified vertically and horizontally, turning into hardened, compacted rocks over time. The peculiar and unique fluctuating stratum was created by slow wind and rain erosion. The Wave remained basically unknown until the 1990s when it was largely advertised in German travel brochures and shown in the 1996 movie Faszination Natur. Small groups of Europeans visited the area, and its popularity grew; tour guides confide that it is still largely a European population that visits, though Americans have definitely begun to take notice of the landscape.\\nMany describe walking through the dunes as an intensely strange experience, surreal and vertigo inducing, or in several cases, described as being like a drug induced walking dream. The rock is certainly a photographer’s delight, where professionals and amateurs strive to take the perfect mid-day shot when not a single shadow eclipses the Wave, or they go for the more dramatic effect of morning or near-twilight that comes with the high domes casting stark shadows on the land.\\nWhile the rocks have been hardened, they are still susceptible to damage. Only 20 visitors a day are allowed to walk through the ravine, and permits are required. The permits are issued through online and in person lotteries, and tour guides are available for hire.\\n\\n']},\n",
       " '/places/winchester-mystery-house': {'title': 'The Winchester Mystery House',\n",
       "  'location': 'San Jose, California',\n",
       "  'short_description': 'A peculiar mansion built by the troubled heir to the Winchester gun fortune.\\xa0',\n",
       "  'long_description': ['\\n\\nIn 1886 an eccentric woman named Sarah Winchester traveled from New Haven, Connecticut, to San Jose, California, to start a new life. She purchased a small eight-room farmhouse and started a small renovation project that would take 36 years and $5.5 million (in the money of the time), only stopping when she passed away in 1922.\\nBy the time she was done, the Winchester Mansion was a modern marvel with indoor plumbing, multiple elevators, a hot shower, and central heating. It had over 160 rooms and 40 bedrooms, 10,000 windows, and even 2 basements. Of course, that’s not all that’s unique about the house. Not all the 2,000 doors can be walked through—one leads to an 8-foot drop to a kitchen sink, another to a 15-foot drop into bushes in the garden below. Staircases lead straight to ceilings, expensive Tiffany stained-glass windows were installed in places where they would get no light, and there are more secret passages than Narnia. A particularly odd delight is a cabinet that, when opened, extends through 30 rooms of the house.\\nNo one is quite sure why Mrs. Winchester demanded constant changes to her very large house. Of course, there are stories.\\nThe most prevalent story is that Mrs. Winchester was being haunted by the spirits of those killed by the Winchester rifle, which her late husband’s company had invented. After her husband passed away, a psychic told her that to evade the spirits, she would have to move out west, buy a home, and build nonstop. Some theories say she believed that as soon as construction was complete, she would die, while other theories suggest she built the house like a maze in order to keep her paranormal tormentors at bay and lost in the many intricacies of the building. As the theory goes, to avoid them she would sleep in a different bedroom every night and take labyrinthine paths through her own home.\\nA massive earthquake struck the Bay Area in 1906 and toppled the top three stories of the house, damaging the other four stories along with it. Some say Sarah Winchester took this as a sign from the spirits that she was too close to completion and ordered the unfinished front half of the house to be boarded up. Though it’s open now, signs of damage from the earthquake are still clearly visible.\\nIn response to the ongoing claims of ghostly encounters and other paranormal phenomena on the property, in the early 1990s the Winchester management had a parapsychologist and paranormal investigator named Christopher Chacon conduct a full-scale scientific assessment of the property. The month-long, round-the-clock investigation included interviewing over 300 people regarding their experiences on the property, and analyzed every aspect of the environment for any unusual phenomena. In 2018, a horror film was made about the infamous house and the spirits that live within.\\n\\n']}}"
      ]
     },
     "execution_count": 15,
     "metadata": {},
     "output_type": "execute_result"
    }
   ],
   "source": [
    "data"
   ]
  },
  {
   "cell_type": "code",
   "execution_count": null,
   "id": "0c18f216",
   "metadata": {},
   "outputs": [],
   "source": []
  }
 ],
 "metadata": {
  "kernelspec": {
   "display_name": "Python 3 (ipykernel)",
   "language": "python",
   "name": "python3"
  },
  "language_info": {
   "codemirror_mode": {
    "name": "ipython",
    "version": 3
   },
   "file_extension": ".py",
   "mimetype": "text/x-python",
   "name": "python",
   "nbconvert_exporter": "python",
   "pygments_lexer": "ipython3",
   "version": "3.9.12"
  }
 },
 "nbformat": 4,
 "nbformat_minor": 5
}

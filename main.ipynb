{
 "cells": [
  {
   "cell_type": "markdown",
   "metadata": {
    "colab_type": "text",
    "id": "view-in-github"
   },
   "source": [
    "<a href=\"https://colab.research.google.com/github/Matteo-Candi/ADM_HW3/blob/main/main.ipynb\" target=\"_parent\"><img src=\"https://colab.research.google.com/assets/colab-badge.svg\" alt=\"Open In Colab\"/></a>"
   ]
  },
  {
   "cell_type": "markdown",
   "metadata": {
    "id": "H3W5jGI5PHoQ"
   },
   "source": [
    "# **Homework 3 - Places of the world**\n",
    "---"
   ]
  },
  {
   "cell_type": "code",
   "execution_count": 4,
   "metadata": {},
   "outputs": [],
   "source": [
    "import requests\n",
    "import bs4\n",
    "from bs4 import BeautifulSoup as bs\n",
    "from tqdm import tqdm\n",
    "import os\n",
    "import pandas as pd\n",
    "import numpy as np\n",
    "from datetime import datetime\n",
    "import json\n",
    "import random as rdm\n",
    "from functools import reduce"
   ]
  },
  {
   "cell_type": "markdown",
   "metadata": {
    "id": "dSLgf_UR-UtC"
   },
   "source": [
    "## **1. Data collection**"
   ]
  },
  {
   "cell_type": "markdown",
   "metadata": {
    "id": "1OcBNHQk-Uqo"
   },
   "source": [
    "### 1.1. Get the list of places"
   ]
  },
  {
   "cell_type": "code",
   "execution_count": null,
   "metadata": {
    "id": "-MWcaQ6G-inm"
   },
   "outputs": [],
   "source": [
    "with open('Places_url.txt', 'x') as f:\n",
    "    for i in tqdm(range(1,401)):             \n",
    "        url = f'https://www.atlasobscura.com/places?page={i}&sort=likes_count'\n",
    "        result = requests.get(url)\n",
    "        soup = bs(result.text)\n",
    "        matches = soup.find_all(\"a\", {\"class\": \"content-card content-card-place\"})\n",
    "        for match in matches:\n",
    "            f.write(match['href'] + '\\n')"
   ]
  },
  {
   "cell_type": "markdown",
   "metadata": {
    "id": "U-8gNTOy-UmR"
   },
   "source": [
    "### 1.2. Crawl places"
   ]
  },
  {
   "cell_type": "code",
   "execution_count": 14,
   "metadata": {
    "id": "3IOF2jT5-jmz"
   },
   "outputs": [
    {
     "name": "stderr",
     "output_type": "stream",
     "text": [
      "100%|██████████| 9/9 [01:33<00:00, 10.44s/it]\n"
     ]
    }
   ],
   "source": [
    "os.mkdir(f'Locations')\n",
    "places_url = pd.read_csv(os.getcwd()+'/Places_url.txt', header=None)\n",
    "\n",
    "\n",
    "for page in tqdm(range(0,400)):\n",
    "    os.mkdir(f'Locations/page_{page + 1}')\n",
    "    for loc in range(0,18):\n",
    "        with open(os.getcwd()+'/Locations/page_'+str(page+1)+'/location_'+str(18*page+loc+1)+'.html', 'w', encoding=\"utf-8\") as f:\n",
    "            url = 'https://www.atlasobscura.com' + places_url.iloc[(18 * page) + loc][0]\n",
    "            result = requests.get(url)\n",
    "            html = result.text\n",
    "            f.write(html)"
   ]
  },
  {
   "cell_type": "markdown",
   "metadata": {
    "id": "Fw2o9DTH-UkN"
   },
   "source": [
    "### 1.3 Parse downloaded pages"
   ]
  },
  {
   "cell_type": "code",
   "execution_count": 63,
   "metadata": {
    "id": "rFPTFkld-nq3"
   },
   "outputs": [],
   "source": [
    "# Get all the data for one place in a dataframe\n",
    "# input : String corresponding to the html_file\n",
    "# output : dataframe containing all the data scraped \n",
    "def get_data_for_one_place(html_file):\n",
    "\n",
    "    soup = bs(html_file)\n",
    "\n",
    "    df = pd.DataFrame(columns=['placeName','placeTags','numPeopleVisited','numPeopleWant','placeDesc','placeShortDesc','placeNearby','placeAddress','placeAlt','placeLong','placeEditors','placePubDate','placeRelatedLists','placeRelatedPlaces','placeURL']) \n",
    "\n",
    "    placeName = soup.find('h1', {'class':'DDPage__header-title'})\n",
    "    if placeName is not None :\n",
    "        df['placeName'] = [placeName.text]\n",
    "    else :\n",
    "        df['placeName'] = ''\n",
    "\n",
    "    placeTags = soup.find('div', {'class':'DDPage__header-place-location'})\n",
    "    if placeTags is not None :\n",
    "        df['placeTags'] = placeTags.text\n",
    "    else :\n",
    "        df['placeTags'] = ''\n",
    "\n",
    "    L = soup.find_all('div', {'class':'col-xs-4X js-submit-wrap js-been-to-top-wrap action-btn-col hidden-print'})\n",
    "    if L is not None and len(L)!=0 and L[0].find('div', {'class':'title-md item-action-count'}) is not None :\n",
    "        df['numPeopleVisited'] = int(L[0].find('div', {'class':'title-md item-action-count'}).text)\n",
    "    else :\n",
    "        df['numPeopleVisited'] = ''\n",
    "\n",
    "    L = soup.find_all('div', {'class':'col-xs-4X js-submit-wrap js-like-top-wrap action-btn-col hidden-print'})  \n",
    "    if L is not None and len(L)!=0 and L[0].find('div', {'class':'title-md item-action-count'}) is not None :\n",
    "        df['numPeopleWant'] = int(L[0].find('div', {'class':'title-md item-action-count'}).text)\n",
    "    else :\n",
    "        df['numPeopleWant'] = ''\n",
    "\n",
    "    placeDesc = soup.find('div', {'id':'place-body'})\n",
    "    if placeDesc is not None :\n",
    "        df['placeDesc'] = placeDesc.text.replace('\\n',' ').replace(u'\\xa0',u' ')\n",
    "    else :\n",
    "        df['placeDesc'] = ''\n",
    "    \n",
    "    placeShortDesc = soup.find('h3', {'class': 'DDPage__header-dek'})\n",
    "    if placeShortDesc is not None :\n",
    "        df['placeShortDesc'] = placeShortDesc.text.replace('\\n',' ').replace(u'\\xa0',u' ')\n",
    "    else :\n",
    "        df['placeShortDesc'] = ''\n",
    "\n",
    "    placeNearby = set([match.text for match in soup.find_all('div', {'class': 'DDPageSiderailRecirc__item-title'})])\n",
    "    if len(placeNearby) != 0 :\n",
    "        df['placeNearby'] = ','.join(list(placeNearby))\n",
    "    else :\n",
    "        df['placeNearby'] = ''\n",
    "\n",
    "    match_address = soup.find(\"address\", {\"class\":\"DDPageSiderail__address\"})\n",
    "    if match_address is not None :\n",
    "        placeAddress = match_address.find('div').contents[0:5:2]\n",
    "        df['placeAddress'] = \"\".join(placeAddress).replace('\\n','')\n",
    "    else :\n",
    "        df['placeAddress'] = ''\n",
    "\n",
    "    match = soup.find(\"div\", {\"class\":\"DDPageSiderail__coordinates js-copy-coordinates\"})\n",
    "    if match is not None :\n",
    "        match = match.get_text().split()\n",
    "        df['placeAlt'] = float(match[0][:-1])\n",
    "        df['placeLong'] = float(match[1])\n",
    "    else :\n",
    "        df['placeAlt'] = ''\n",
    "        df['placeLong'] = ''\n",
    "\n",
    "    contributors = []\n",
    "    for contributor in soup.find_all('div', {'class':'DDPContributors'})[0].find_all('a', {'class':'DDPContributorsList__contributor'}) :\n",
    "        if contributor.find('span') is not None :\n",
    "            contributors.append(contributor.find('span').text)\n",
    "        else :\n",
    "            contributors.append(contributor.text)\n",
    "    if len(contributors) != 0 :\n",
    "        df['placeEditors'] = ','.join(list(set(contributors)))\n",
    "    else :\n",
    "        df['placeEditors'] = ''\n",
    "\n",
    "    placePubDate = soup.find(\"div\", {\"class\":\"DDPContributor__name\"})\n",
    "    if placePubDate is not None :\n",
    "        df['placePubDate'] = datetime.strptime(placePubDate.text, '%B %d, %Y')\n",
    "    else :\n",
    "        df['placePubDate'] = ''\n",
    "\n",
    "    placeRelatedLists = []\n",
    "    placeRelatedPlaces = []\n",
    "    for container in soup.find_all('div', {'class' : 'full-width-container CardRecircSection'}) :\n",
    "        title = container.find('div', {'class':'CardRecircSection__title'}).text\n",
    "        if 'Appears' in title :\n",
    "            for container_related in container.find_all('h3', {'class':'Card__heading --content-card-v2-title js-title-content'}) :\n",
    "                placeRelatedLists.append(container_related.text[1:-1])\n",
    "        elif 'Related Places' in title :\n",
    "            for container_related in container.find_all('h3', {'class':'Card__heading --content-card-v2-title js-title-content'}) :\n",
    "                placeRelatedPlaces.append(container_related.text[1:-1])\n",
    "    if len(placeRelatedLists) != 0 :\n",
    "        df['placeRelatedLists'] = ','.join(placeRelatedLists)\n",
    "    else :\n",
    "        df['placeRelatedLists'] = ''\n",
    "    if len(placeRelatedPlaces) != 0 :\n",
    "        df['placeRelatedPlaces'] = ','.join(placeRelatedPlaces)\n",
    "    else :\n",
    "        df['placeRelatedPlaces'] = ''\n",
    "\n",
    "    if len(soup.find_all(\"link\", {'rel':'canonical'})) != 0 :\n",
    "        df['placeURL'] = soup.find_all(\"link\", {'rel':'canonical'})[0]['href']   \n",
    "    else :\n",
    "        df['placeURL'] = ''  \n",
    "        \n",
    "    return df\n"
   ]
  },
  {
   "cell_type": "code",
   "execution_count": 67,
   "metadata": {},
   "outputs": [
    {
     "name": "stderr",
     "output_type": "stream",
     "text": [
      "100%|██████████| 400/400 [28:34<00:00,  4.29s/it]\n"
     ]
    }
   ],
   "source": [
    "# We get all the html files contained in the Locations directory\n",
    "# For each html file we call the get_data_for_one_place function\n",
    "# We upload the output of the function in a tsv file\n",
    "\n",
    "for page in tqdm(range(0,400)):\n",
    "    for loc in range(0,18):\n",
    "        with open(os.getcwd()+'/Locations/page_'+str(page+1)+'/location_'+str(18*page+loc+1)+'.html', 'r', encoding=\"utf-8\") as f :\n",
    "            html_file = f.read()\n",
    "        df = get_data_for_one_place(html_file)\n",
    "        df.to_csv(os.getcwd()+'/Locations/page_'+str(page+1)+'/location_'+str(18*page+loc+1)+'.tsv', sep='\\t', index=False, header=None)\n"
   ]
  },
  {
   "cell_type": "markdown",
   "metadata": {
    "id": "Y05B7aa0-Ufb"
   },
   "source": [
    "---\n",
    "## **2. Search Engine**"
   ]
  },
  {
   "cell_type": "code",
   "execution_count": 69,
   "metadata": {},
   "outputs": [
    {
     "name": "stderr",
     "output_type": "stream",
     "text": [
      "[nltk_data] Downloading package stopwords to\n",
      "[nltk_data]     C:\\Users\\yharr\\AppData\\Roaming\\nltk_data...\n",
      "[nltk_data]   Package stopwords is already up-to-date!\n"
     ]
    }
   ],
   "source": [
    "import nltk\n",
    "import re\n",
    "\n",
    "nltk.download('stopwords')\n",
    "stopwords = nltk.corpus.stopwords.words('english')\n",
    "stemmers = nltk.stem.SnowballStemmer('english')\n",
    "\n",
    "def remove_punctuations(comment) :\n",
    "    comment = re.sub(r'[? | ! | \\' |\" | #]','',comment)\n",
    "    comment = re.sub(r'[. | , | ) | ( | \\ | / ]','',comment)\n",
    "    return comment"
   ]
  },
  {
   "cell_type": "code",
   "execution_count": 70,
   "metadata": {
    "id": "MocI2eQz_HTj"
   },
   "outputs": [
    {
     "name": "stderr",
     "output_type": "stream",
     "text": [
      "100%|██████████| 400/400 [01:43<00:00,  3.86it/s]\n"
     ]
    }
   ],
   "source": [
    "# Mettre les contenus de tous les fichiers tsv dans un seul dataframe\n",
    "# Effectuer un preprocessing sur le champ long description de ce dataframe\n",
    "# Enregistrer ce dataframe dans un fichier tsv à la racine\n",
    "# We want to get the data of all the tsv files and put it in only one tsv file\n",
    "# Before doing it we preprocess all the attributes placeDesc and placeShortDesc of each tsv file\n",
    "\n",
    "def getPreProcessedData(description) :\n",
    "    filtered_data = []\n",
    "    for word in description.split() :\n",
    "        # We remove the puncuations\n",
    "        for clean_word in remove_punctuations(word).split() :\n",
    "            # We check if we have only alpha characters and if the word has a len of 3 at least\n",
    "            if clean_word.isalpha() and len(clean_word) > 2 :\n",
    "                # We check if it's not a stopword\n",
    "                if clean_word.lower() not in stopwords :\n",
    "                    # We apply the stemmatization\n",
    "                    stemmed_word = stemmers.stem(clean_word.lower())\n",
    "                    filtered_data.append(stemmed_word)\n",
    "                else :\n",
    "                    continue\n",
    "            else :\n",
    "                continue\n",
    "    return \" \".join(filtered_data)\n",
    "\n",
    "\n",
    "cols = columns=['placeName','placeTags','numPeopleVisited','numPeopleWant','placeDesc','placeShortDesc','placeNearby','placeAddress','placeAlt','placeLong','placeEditors','placePubDate','placeRelatedLists','placeRelatedPlaces','placeURL']\n",
    "df = pd.DataFrame(columns=cols)\n",
    "for page in tqdm(range(0,400)):\n",
    "    for loc in range(0,18):\n",
    "        df_tsv = pd.read_csv(os.getcwd()+'/Locations/page_'+str(page+1)+'/location_'+str(18*page+loc+1)+'.tsv', sep='\\t', names=cols)\n",
    "        df_tsv.placeDesc = df_tsv.placeDesc.apply(lambda row : getPreProcessedData(row))\n",
    "        df_tsv.placeShortDesc = df_tsv.placeShortDesc.apply(lambda row : getPreProcessedData(row))\n",
    "        df = pd.concat([df,df_tsv])\n",
    "\n",
    "df.to_csv(os.getcwd()+'/locations_data.tsv', sep='\\t', index=False)     \n"
   ]
  },
  {
   "cell_type": "code",
   "execution_count": 76,
   "metadata": {},
   "outputs": [
    {
     "data": {
      "text/html": [
       "<div>\n",
       "<style scoped>\n",
       "    .dataframe tbody tr th:only-of-type {\n",
       "        vertical-align: middle;\n",
       "    }\n",
       "\n",
       "    .dataframe tbody tr th {\n",
       "        vertical-align: top;\n",
       "    }\n",
       "\n",
       "    .dataframe thead th {\n",
       "        text-align: right;\n",
       "    }\n",
       "</style>\n",
       "<table border=\"1\" class=\"dataframe\">\n",
       "  <thead>\n",
       "    <tr style=\"text-align: right;\">\n",
       "      <th></th>\n",
       "      <th>placeName</th>\n",
       "      <th>placeTags</th>\n",
       "      <th>numPeopleVisited</th>\n",
       "      <th>numPeopleWant</th>\n",
       "      <th>placeDesc</th>\n",
       "      <th>placeShortDesc</th>\n",
       "      <th>placeNearby</th>\n",
       "      <th>placeAddress</th>\n",
       "      <th>placeAlt</th>\n",
       "      <th>placeLong</th>\n",
       "      <th>placeEditors</th>\n",
       "      <th>placePubDate</th>\n",
       "      <th>placeRelatedLists</th>\n",
       "      <th>placeRelatedPlaces</th>\n",
       "      <th>placeURL</th>\n",
       "    </tr>\n",
       "  </thead>\n",
       "  <tbody>\n",
       "    <tr>\n",
       "      <th>0</th>\n",
       "      <td>City Hall Station</td>\n",
       "      <td>Manhattan, New York</td>\n",
       "      <td>1828</td>\n",
       "      <td>8583</td>\n",
       "      <td>first new york citi subway built oper interbor...</td>\n",
       "      <td>beauti abandon new york subway station complet...</td>\n",
       "      <td>Tunnel Number 3,African Burial Ground National...</td>\n",
       "      <td>31 Centre StNew York, New York, 10007United St...</td>\n",
       "      <td>40.7134</td>\n",
       "      <td>-74.0046</td>\n",
       "      <td>Allan,erjeffery,fosterc827,offtrackplanet,wyth...</td>\n",
       "      <td>2010-05-08</td>\n",
       "      <td>30 Unexpected Places to Have a Joyful Adventur...</td>\n",
       "      <td>Crystal Palace Subway,Moscow Metro Stations,Ro...</td>\n",
       "      <td>https://www.atlasobscura.com/places/city-hall-...</td>\n",
       "    </tr>\n",
       "    <tr>\n",
       "      <th>1</th>\n",
       "      <td>Highgate Cemetery</td>\n",
       "      <td>London, England</td>\n",
       "      <td>2618</td>\n",
       "      <td>8182</td>\n",
       "      <td>open highgat one infam cemeteri origin open on...</td>\n",
       "      <td>london creepiest cemeteri site duel magician m...</td>\n",
       "      <td>Parkland Walk,Dick Whittington’s Cat ,World's ...</td>\n",
       "      <td>Swain's Lane, HighgateLondon, England, N6Unite...</td>\n",
       "      <td>51.5675</td>\n",
       "      <td>-0.1483</td>\n",
       "      <td>gingercinnamon,Annetta Black,lushjay,SEANETTA,...</td>\n",
       "      <td>2014-08-09</td>\n",
       "      <td>The World's Top 100 Wonders in 2018,London's T...</td>\n",
       "      <td>Jewett City Vampires,Tomb of the Mather Family...</td>\n",
       "      <td>https://www.atlasobscura.com/places/highgate-c...</td>\n",
       "    </tr>\n",
       "    <tr>\n",
       "      <th>2</th>\n",
       "      <td>Leadenhall Market</td>\n",
       "      <td>London, England</td>\n",
       "      <td>3135</td>\n",
       "      <td>7570</td>\n",
       "      <td>ornat paint roof cobbl floor leadenhal market ...</td>\n",
       "      <td>ornat victorian marketplac set diagon alley le...</td>\n",
       "      <td>The Cornhill Devils ,Philpot Lane Mice Sculptu...</td>\n",
       "      <td>London, England, EC3VUnited Kingdom</td>\n",
       "      <td>51.5126</td>\n",
       "      <td>-0.0834</td>\n",
       "      <td>Lyloueen,lili,Meg,amiedd,JZA,Gavin,raymondwinn...</td>\n",
       "      <td>2016-08-01</td>\n",
       "      <td>The Ultimate Guide to Stunning, Surprising, or...</td>\n",
       "      <td>Rivendell,Bagdad Cafe,Gare de la Ciotat,Drvengrad</td>\n",
       "      <td>https://www.atlasobscura.com/places/leadenhall...</td>\n",
       "    </tr>\n",
       "    <tr>\n",
       "      <th>3</th>\n",
       "      <td>The Wave Organ</td>\n",
       "      <td>San Francisco, California</td>\n",
       "      <td>2429</td>\n",
       "      <td>7408</td>\n",
       "      <td>locat jetti san francisco bay wave organ built...</td>\n",
       "      <td>huge music instrument play ocean</td>\n",
       "      <td>Palace of Fine Arts,Long Now Orrery,The Stern ...</td>\n",
       "      <td>83 Marina Green DrSan Francisco, California, 9...</td>\n",
       "      <td>37.8085</td>\n",
       "      <td>-122.4401</td>\n",
       "      <td>td007,Mark Casey,Chassy,SEANETTA,hana,Saal333,...</td>\n",
       "      <td>2008-11-21</td>\n",
       "      <td>Leonardo Nam's 16 Quirky Roadside Attractions ...</td>\n",
       "      <td>Sea Organ,Silent Green Kulturquartier,St. John...</td>\n",
       "      <td>https://www.atlasobscura.com/places/wave-organ</td>\n",
       "    </tr>\n",
       "    <tr>\n",
       "      <th>4</th>\n",
       "      <td>Catacombes de Paris</td>\n",
       "      <td>Paris, France</td>\n",
       "      <td>4447</td>\n",
       "      <td>7046</td>\n",
       "      <td>parisian polic assign train exercis previous u...</td>\n",
       "      <td>vast legendari catacomb hold secret much stran...</td>\n",
       "      <td>Arago Medallions,Sculptures de Décure,Jeannot'...</td>\n",
       "      <td>1 Place Denfert-RochereauParis, 75014France</td>\n",
       "      <td>48.8343</td>\n",
       "      <td>2.3322</td>\n",
       "      <td>ramonrodz2212,Fred Cherrygarden,ceasterling,Es...</td>\n",
       "      <td>2009-02-13</td>\n",
       "      <td>19 Catacombs Sure to Tingle Your Spine,The Wor...</td>\n",
       "      <td>Ossario di San Martino,Leuk Charnel House,Sant...</td>\n",
       "      <td>https://www.atlasobscura.com/places/catacombes...</td>\n",
       "    </tr>\n",
       "    <tr>\n",
       "      <th>...</th>\n",
       "      <td>...</td>\n",
       "      <td>...</td>\n",
       "      <td>...</td>\n",
       "      <td>...</td>\n",
       "      <td>...</td>\n",
       "      <td>...</td>\n",
       "      <td>...</td>\n",
       "      <td>...</td>\n",
       "      <td>...</td>\n",
       "      <td>...</td>\n",
       "      <td>...</td>\n",
       "      <td>...</td>\n",
       "      <td>...</td>\n",
       "      <td>...</td>\n",
       "      <td>...</td>\n",
       "    </tr>\n",
       "    <tr>\n",
       "      <th>7195</th>\n",
       "      <td>The Cairo</td>\n",
       "      <td>Washington, D.C.</td>\n",
       "      <td>342</td>\n",
       "      <td>405</td>\n",
       "      <td>washington residenti neighborhood typifi low r...</td>\n",
       "      <td>unaccept tall build real reason washington dcs...</td>\n",
       "      <td>Annie's Paramount Steakhouse,House of the Temp...</td>\n",
       "      <td>1615 Q Street NWWashington, District of Columb...</td>\n",
       "      <td>38.9113</td>\n",
       "      <td>-77.0375</td>\n",
       "      <td>Greg Jones,matthewbgilmore,Elliot Carter</td>\n",
       "      <td>2017-09-12</td>\n",
       "      <td>NaN</td>\n",
       "      <td>145 Rue Lafayette,Architect of the Capitol Arc...</td>\n",
       "      <td>https://www.atlasobscura.com/places/the-cairo-...</td>\n",
       "    </tr>\n",
       "    <tr>\n",
       "      <th>7196</th>\n",
       "      <td>Winganon Space Capsule</td>\n",
       "      <td>Talala, Oklahoma</td>\n",
       "      <td>120</td>\n",
       "      <td>405</td>\n",
       "      <td>drive along dull stretch road talala winganon ...</td>\n",
       "      <td>detach cement mixer transform resembl relic ob...</td>\n",
       "      <td>Playtower,Totem Pole Park,Bowling Ball Yard Art</td>\n",
       "      <td>E 300 RoadTalala, OklahomaUnited States</td>\n",
       "      <td>36.5828</td>\n",
       "      <td>-95.6516</td>\n",
       "      <td>5qmbcxnkwy,Darrell Powers,MNtraveler,CoolCrab,...</td>\n",
       "      <td>2017-08-14</td>\n",
       "      <td>NaN</td>\n",
       "      <td>Folk Art Park,Apple Valley Hillbilly Garden an...</td>\n",
       "      <td>https://www.atlasobscura.com/places/winganon-s...</td>\n",
       "    </tr>\n",
       "    <tr>\n",
       "      <th>7197</th>\n",
       "      <td>Cook &amp; Book</td>\n",
       "      <td>Brussels, Belgium</td>\n",
       "      <td>124</td>\n",
       "      <td>405</td>\n",
       "      <td>cook book brussel far bookstor size supermarke...</td>\n",
       "      <td>wonder kitsch bookstor size supermarket</td>\n",
       "      <td>Bibliotheca Wittockiana,Temple of Human Passio...</td>\n",
       "      <td>1 Place du Temps LibreWoluwe-Saint-LambertBrus...</td>\n",
       "      <td>50.8480</td>\n",
       "      <td>4.4373</td>\n",
       "      <td>simonlitton,rhumphrey17,Producer Dani</td>\n",
       "      <td>2017-02-08</td>\n",
       "      <td>The Ultimate Guide to Wondrous Independent Boo...</td>\n",
       "      <td>For Keeps Bookstore,Fantagraphics,La Llama,Whi...</td>\n",
       "      <td>https://www.atlasobscura.com/places/cook-book</td>\n",
       "    </tr>\n",
       "    <tr>\n",
       "      <th>7198</th>\n",
       "      <td>Xul Solar Museum</td>\n",
       "      <td>Buenos Aires, Argentina</td>\n",
       "      <td>129</td>\n",
       "      <td>405</td>\n",
       "      <td>dream reform perfect univers argentin artist x...</td>\n",
       "      <td>xul solar artist altern world inventor languag...</td>\n",
       "      <td>El Ateneo Grand Splendid,Ricardo Rojas House M...</td>\n",
       "      <td>Laprida 1212Buenos AiresArgentina</td>\n",
       "      <td>-34.5948</td>\n",
       "      <td>-58.4078</td>\n",
       "      <td>Allison</td>\n",
       "      <td>2016-09-12</td>\n",
       "      <td>A Linguistics Lover's Tour of the World</td>\n",
       "      <td>Blenko Man,Ilana Goor Museum ,Museo de Arte Po...</td>\n",
       "      <td>https://www.atlasobscura.com/places/xul-solar-...</td>\n",
       "    </tr>\n",
       "    <tr>\n",
       "      <th>7199</th>\n",
       "      <td>Termesphere Gallery</td>\n",
       "      <td>Spearfish, South Dakota</td>\n",
       "      <td>71</td>\n",
       "      <td>406</td>\n",
       "      <td>artist paint flat plane termespher galleri art...</td>\n",
       "      <td>geodes galleri hold collect paint sphere make ...</td>\n",
       "      <td>Mt. Moriah Cemetery,Fish Car No. 3,Mount Roose...</td>\n",
       "      <td>1920 Christensen DriveSpearfish, South Dakota,...</td>\n",
       "      <td>44.4574</td>\n",
       "      <td>-103.8258</td>\n",
       "      <td>kgsn143</td>\n",
       "      <td>2014-08-19</td>\n",
       "      <td>NaN</td>\n",
       "      <td>Museo del Barro (Museum of Clay),Museo Dolores...</td>\n",
       "      <td>https://www.atlasobscura.com/places/termespher...</td>\n",
       "    </tr>\n",
       "  </tbody>\n",
       "</table>\n",
       "<p>7200 rows × 15 columns</p>\n",
       "</div>"
      ],
      "text/plain": [
       "                   placeName                  placeTags  numPeopleVisited  \\\n",
       "0          City Hall Station        Manhattan, New York              1828   \n",
       "1          Highgate Cemetery            London, England              2618   \n",
       "2          Leadenhall Market            London, England              3135   \n",
       "3             The Wave Organ  San Francisco, California              2429   \n",
       "4        Catacombes de Paris              Paris, France              4447   \n",
       "...                      ...                        ...               ...   \n",
       "7195               The Cairo           Washington, D.C.               342   \n",
       "7196  Winganon Space Capsule           Talala, Oklahoma               120   \n",
       "7197             Cook & Book          Brussels, Belgium               124   \n",
       "7198        Xul Solar Museum    Buenos Aires, Argentina               129   \n",
       "7199     Termesphere Gallery    Spearfish, South Dakota                71   \n",
       "\n",
       "      numPeopleWant                                          placeDesc  \\\n",
       "0              8583  first new york citi subway built oper interbor...   \n",
       "1              8182  open highgat one infam cemeteri origin open on...   \n",
       "2              7570  ornat paint roof cobbl floor leadenhal market ...   \n",
       "3              7408  locat jetti san francisco bay wave organ built...   \n",
       "4              7046  parisian polic assign train exercis previous u...   \n",
       "...             ...                                                ...   \n",
       "7195            405  washington residenti neighborhood typifi low r...   \n",
       "7196            405  drive along dull stretch road talala winganon ...   \n",
       "7197            405  cook book brussel far bookstor size supermarke...   \n",
       "7198            405  dream reform perfect univers argentin artist x...   \n",
       "7199            406  artist paint flat plane termespher galleri art...   \n",
       "\n",
       "                                         placeShortDesc  \\\n",
       "0     beauti abandon new york subway station complet...   \n",
       "1     london creepiest cemeteri site duel magician m...   \n",
       "2     ornat victorian marketplac set diagon alley le...   \n",
       "3                      huge music instrument play ocean   \n",
       "4     vast legendari catacomb hold secret much stran...   \n",
       "...                                                 ...   \n",
       "7195  unaccept tall build real reason washington dcs...   \n",
       "7196  detach cement mixer transform resembl relic ob...   \n",
       "7197            wonder kitsch bookstor size supermarket   \n",
       "7198  xul solar artist altern world inventor languag...   \n",
       "7199  geodes galleri hold collect paint sphere make ...   \n",
       "\n",
       "                                            placeNearby  \\\n",
       "0     Tunnel Number 3,African Burial Ground National...   \n",
       "1     Parkland Walk,Dick Whittington’s Cat ,World's ...   \n",
       "2     The Cornhill Devils ,Philpot Lane Mice Sculptu...   \n",
       "3     Palace of Fine Arts,Long Now Orrery,The Stern ...   \n",
       "4     Arago Medallions,Sculptures de Décure,Jeannot'...   \n",
       "...                                                 ...   \n",
       "7195  Annie's Paramount Steakhouse,House of the Temp...   \n",
       "7196    Playtower,Totem Pole Park,Bowling Ball Yard Art   \n",
       "7197  Bibliotheca Wittockiana,Temple of Human Passio...   \n",
       "7198  El Ateneo Grand Splendid,Ricardo Rojas House M...   \n",
       "7199  Mt. Moriah Cemetery,Fish Car No. 3,Mount Roose...   \n",
       "\n",
       "                                           placeAddress  placeAlt  placeLong  \\\n",
       "0     31 Centre StNew York, New York, 10007United St...   40.7134   -74.0046   \n",
       "1     Swain's Lane, HighgateLondon, England, N6Unite...   51.5675    -0.1483   \n",
       "2                   London, England, EC3VUnited Kingdom   51.5126    -0.0834   \n",
       "3     83 Marina Green DrSan Francisco, California, 9...   37.8085  -122.4401   \n",
       "4           1 Place Denfert-RochereauParis, 75014France   48.8343     2.3322   \n",
       "...                                                 ...       ...        ...   \n",
       "7195  1615 Q Street NWWashington, District of Columb...   38.9113   -77.0375   \n",
       "7196            E 300 RoadTalala, OklahomaUnited States   36.5828   -95.6516   \n",
       "7197  1 Place du Temps LibreWoluwe-Saint-LambertBrus...   50.8480     4.4373   \n",
       "7198                  Laprida 1212Buenos AiresArgentina  -34.5948   -58.4078   \n",
       "7199  1920 Christensen DriveSpearfish, South Dakota,...   44.4574  -103.8258   \n",
       "\n",
       "                                           placeEditors placePubDate  \\\n",
       "0     Allan,erjeffery,fosterc827,offtrackplanet,wyth...   2010-05-08   \n",
       "1     gingercinnamon,Annetta Black,lushjay,SEANETTA,...   2014-08-09   \n",
       "2     Lyloueen,lili,Meg,amiedd,JZA,Gavin,raymondwinn...   2016-08-01   \n",
       "3     td007,Mark Casey,Chassy,SEANETTA,hana,Saal333,...   2008-11-21   \n",
       "4     ramonrodz2212,Fred Cherrygarden,ceasterling,Es...   2009-02-13   \n",
       "...                                                 ...          ...   \n",
       "7195           Greg Jones,matthewbgilmore,Elliot Carter   2017-09-12   \n",
       "7196  5qmbcxnkwy,Darrell Powers,MNtraveler,CoolCrab,...   2017-08-14   \n",
       "7197              simonlitton,rhumphrey17,Producer Dani   2017-02-08   \n",
       "7198                                            Allison   2016-09-12   \n",
       "7199                                            kgsn143   2014-08-19   \n",
       "\n",
       "                                      placeRelatedLists  \\\n",
       "0     30 Unexpected Places to Have a Joyful Adventur...   \n",
       "1     The World's Top 100 Wonders in 2018,London's T...   \n",
       "2     The Ultimate Guide to Stunning, Surprising, or...   \n",
       "3     Leonardo Nam's 16 Quirky Roadside Attractions ...   \n",
       "4     19 Catacombs Sure to Tingle Your Spine,The Wor...   \n",
       "...                                                 ...   \n",
       "7195                                                NaN   \n",
       "7196                                                NaN   \n",
       "7197  The Ultimate Guide to Wondrous Independent Boo...   \n",
       "7198            A Linguistics Lover's Tour of the World   \n",
       "7199                                                NaN   \n",
       "\n",
       "                                     placeRelatedPlaces  \\\n",
       "0     Crystal Palace Subway,Moscow Metro Stations,Ro...   \n",
       "1     Jewett City Vampires,Tomb of the Mather Family...   \n",
       "2     Rivendell,Bagdad Cafe,Gare de la Ciotat,Drvengrad   \n",
       "3     Sea Organ,Silent Green Kulturquartier,St. John...   \n",
       "4     Ossario di San Martino,Leuk Charnel House,Sant...   \n",
       "...                                                 ...   \n",
       "7195  145 Rue Lafayette,Architect of the Capitol Arc...   \n",
       "7196  Folk Art Park,Apple Valley Hillbilly Garden an...   \n",
       "7197  For Keeps Bookstore,Fantagraphics,La Llama,Whi...   \n",
       "7198  Blenko Man,Ilana Goor Museum ,Museo de Arte Po...   \n",
       "7199  Museo del Barro (Museum of Clay),Museo Dolores...   \n",
       "\n",
       "                                               placeURL  \n",
       "0     https://www.atlasobscura.com/places/city-hall-...  \n",
       "1     https://www.atlasobscura.com/places/highgate-c...  \n",
       "2     https://www.atlasobscura.com/places/leadenhall...  \n",
       "3        https://www.atlasobscura.com/places/wave-organ  \n",
       "4     https://www.atlasobscura.com/places/catacombes...  \n",
       "...                                                 ...  \n",
       "7195  https://www.atlasobscura.com/places/the-cairo-...  \n",
       "7196  https://www.atlasobscura.com/places/winganon-s...  \n",
       "7197      https://www.atlasobscura.com/places/cook-book  \n",
       "7198  https://www.atlasobscura.com/places/xul-solar-...  \n",
       "7199  https://www.atlasobscura.com/places/termespher...  \n",
       "\n",
       "[7200 rows x 15 columns]"
      ]
     },
     "execution_count": 76,
     "metadata": {},
     "output_type": "execute_result"
    }
   ],
   "source": [
    "# Here is the full dataset of places with placeDesc and placeShortDesc preprocessed.\n",
    "df_out = pd.read_csv(os.getcwd()+'/locations_data.tsv', sep='\\t')\n",
    "df_out"
   ]
  },
  {
   "cell_type": "markdown",
   "metadata": {
    "id": "zAp4yrzH-Ucq"
   },
   "source": [
    "### 2.1. Conjunctive query"
   ]
  },
  {
   "cell_type": "markdown",
   "metadata": {
    "id": "2ZG77zGj_LaE"
   },
   "source": [
    " 2.1.1) Create your index!"
   ]
  },
  {
   "cell_type": "code",
   "execution_count": 5,
   "metadata": {
    "id": "fmiVUH_K_LTS"
   },
   "outputs": [],
   "source": [
    "df = pd.read_csv('locations_data.tsv', sep='\\t')\n",
    "data = df.placeDesc\n",
    "\n",
    "splitted_rows = data.apply(lambda row: row.split())\n",
    "vocabulary = list(set([i for row in splitted_rows for i in set(row)]))\n",
    "vocabulary.sort()"
   ]
  },
  {
   "cell_type": "code",
   "execution_count": null,
   "metadata": {},
   "outputs": [],
   "source": [
    "inverted_index = {}\n",
    "for i, word in tqdm(enumerate(vocabulary)):\n",
    "    inverted_index[i] = list(splitted_rows[splitted_rows.apply(lambda row: word in row)].index)"
   ]
  },
  {
   "cell_type": "markdown",
   "metadata": {
    "id": "kBhdTOgE_Yzo"
   },
   "source": [
    "2.1.2) Execute the query"
   ]
  },
  {
   "cell_type": "code",
   "execution_count": 8,
   "metadata": {
    "id": "h4vsDwzW_Ysa"
   },
   "outputs": [],
   "source": [
    "query = 'american museum'\n",
    "query = query.split()\n",
    "stemmed_query = [stemmers.stem(word.lower()) for word in query]\n",
    "id_query_words = [vocabulary.index(word) for word in stemmed_query]\n",
    "docs = [inverted_index[str(id)] for id in id_query_words]"
   ]
  },
  {
   "cell_type": "code",
   "execution_count": 10,
   "metadata": {},
   "outputs": [
    {
     "data": {
      "text/html": [
       "<div>\n",
       "<style scoped>\n",
       "    .dataframe tbody tr th:only-of-type {\n",
       "        vertical-align: middle;\n",
       "    }\n",
       "\n",
       "    .dataframe tbody tr th {\n",
       "        vertical-align: top;\n",
       "    }\n",
       "\n",
       "    .dataframe thead th {\n",
       "        text-align: right;\n",
       "    }\n",
       "</style>\n",
       "<table border=\"1\" class=\"dataframe\">\n",
       "  <thead>\n",
       "    <tr style=\"text-align: right;\">\n",
       "      <th></th>\n",
       "      <th>placeName</th>\n",
       "      <th>placeDesc</th>\n",
       "      <th>placeURL</th>\n",
       "    </tr>\n",
       "  </thead>\n",
       "  <tbody>\n",
       "    <tr>\n",
       "      <th>59</th>\n",
       "      <td>The Witch House of Salem</td>\n",
       "      <td>salem witchcraft trial took place februari may...</td>\n",
       "      <td>https://www.atlasobscura.com/places/witch-hous...</td>\n",
       "    </tr>\n",
       "    <tr>\n",
       "      <th>141</th>\n",
       "      <td>Museum of the Weird</td>\n",
       "      <td>dime dime store museum account endang speci fi...</td>\n",
       "      <td>https://www.atlasobscura.com/places/museum-weird</td>\n",
       "    </tr>\n",
       "    <tr>\n",
       "      <th>173</th>\n",
       "      <td>National Atomic Testing Museum</td>\n",
       "      <td>las vega oasi desert one sleep everi vice imag...</td>\n",
       "      <td>https://www.atlasobscura.com/places/national-a...</td>\n",
       "    </tr>\n",
       "    <tr>\n",
       "      <th>224</th>\n",
       "      <td>Canyons of the Ancients</td>\n",
       "      <td>ripe quiet reflect simpli canyon ancient outdo...</td>\n",
       "      <td>https://www.atlasobscura.com/places/canyons-of...</td>\n",
       "    </tr>\n",
       "    <tr>\n",
       "      <th>320</th>\n",
       "      <td>The Natural Bridge</td>\n",
       "      <td>often cite place among great wonder natur worl...</td>\n",
       "      <td>https://www.atlasobscura.com/places/the-natura...</td>\n",
       "    </tr>\n",
       "    <tr>\n",
       "      <th>329</th>\n",
       "      <td>Uncommon Objects</td>\n",
       "      <td>like eleg antiqu mall gone horribl wrong diffe...</td>\n",
       "      <td>https://www.atlasobscura.com/places/uncommon-o...</td>\n",
       "    </tr>\n",
       "    <tr>\n",
       "      <th>356</th>\n",
       "      <td>KattenKabinet</td>\n",
       "      <td>death pet inspir number reaction rare anyon ta...</td>\n",
       "      <td>https://www.atlasobscura.com/places/kattenkabinet</td>\n",
       "    </tr>\n",
       "    <tr>\n",
       "      <th>360</th>\n",
       "      <td>CDC Museum</td>\n",
       "      <td>hit film outbreak resid unit state come terror...</td>\n",
       "      <td>https://www.atlasobscura.com/places/cdc-museum</td>\n",
       "    </tr>\n",
       "  </tbody>\n",
       "</table>\n",
       "</div>"
      ],
      "text/plain": [
       "                          placeName  \\\n",
       "59         The Witch House of Salem   \n",
       "141             Museum of the Weird   \n",
       "173  National Atomic Testing Museum   \n",
       "224         Canyons of the Ancients   \n",
       "320              The Natural Bridge   \n",
       "329                Uncommon Objects   \n",
       "356                   KattenKabinet   \n",
       "360                      CDC Museum   \n",
       "\n",
       "                                             placeDesc  \\\n",
       "59   salem witchcraft trial took place februari may...   \n",
       "141  dime dime store museum account endang speci fi...   \n",
       "173  las vega oasi desert one sleep everi vice imag...   \n",
       "224  ripe quiet reflect simpli canyon ancient outdo...   \n",
       "320  often cite place among great wonder natur worl...   \n",
       "329  like eleg antiqu mall gone horribl wrong diffe...   \n",
       "356  death pet inspir number reaction rare anyon ta...   \n",
       "360  hit film outbreak resid unit state come terror...   \n",
       "\n",
       "                                              placeURL  \n",
       "59   https://www.atlasobscura.com/places/witch-hous...  \n",
       "141   https://www.atlasobscura.com/places/museum-weird  \n",
       "173  https://www.atlasobscura.com/places/national-a...  \n",
       "224  https://www.atlasobscura.com/places/canyons-of...  \n",
       "320  https://www.atlasobscura.com/places/the-natura...  \n",
       "329  https://www.atlasobscura.com/places/uncommon-o...  \n",
       "356  https://www.atlasobscura.com/places/kattenkabinet  \n",
       "360     https://www.atlasobscura.com/places/cdc-museum  "
      ]
     },
     "execution_count": 10,
     "metadata": {},
     "output_type": "execute_result"
    }
   ],
   "source": [
    "matches = list(reduce(lambda x,y: set(x).intersection(y), docs))           #  Supposing the query has only 2 words (for now)\n",
    "matches.sort()\n",
    "output = df[['placeName', 'placeDesc', 'placeURL']]\n",
    "output.loc[matches[:10]]\n"
   ]
  },
  {
   "cell_type": "markdown",
   "metadata": {
    "id": "zU03Hu7F_YkW"
   },
   "source": [
    "### 2.2. Conjunctive query & Ranking score"
   ]
  },
  {
   "cell_type": "code",
   "execution_count": null,
   "metadata": {
    "id": "l55GDzPg_Yb-"
   },
   "outputs": [],
   "source": []
  },
  {
   "cell_type": "markdown",
   "metadata": {
    "id": "WaSGQdg5_YPV"
   },
   "source": [
    "2.2.1) Inverted index"
   ]
  },
  {
   "cell_type": "code",
   "execution_count": null,
   "metadata": {
    "id": "wA_6ncRi_YF4"
   },
   "outputs": [],
   "source": []
  },
  {
   "cell_type": "markdown",
   "metadata": {
    "id": "fyJps-s4_2iR"
   },
   "source": [
    "2.2.2) Execute the query"
   ]
  },
  {
   "cell_type": "code",
   "execution_count": null,
   "metadata": {
    "id": "zoJTmwoU_2bZ"
   },
   "outputs": [],
   "source": []
  },
  {
   "cell_type": "markdown",
   "metadata": {
    "id": "C5wr0dYk_2UM"
   },
   "source": [
    "---\n",
    "## **3. Define a new score!**"
   ]
  },
  {
   "cell_type": "code",
   "execution_count": null,
   "metadata": {
    "id": "OQ2GuM3A_2NL"
   },
   "outputs": [],
   "source": []
  },
  {
   "cell_type": "markdown",
   "metadata": {
    "id": "tiNoRx2N_2Gl"
   },
   "source": [
    "---\n",
    "## **4. Visualizing the most relevant places**"
   ]
  },
  {
   "cell_type": "code",
   "execution_count": null,
   "metadata": {
    "id": "WdDCiAtw_1_F"
   },
   "outputs": [],
   "source": []
  },
  {
   "cell_type": "markdown",
   "metadata": {
    "id": "sVU1bG3jAR0Z"
   },
   "source": [
    "---\n",
    "## **5. BONUS: More complex search engine**"
   ]
  },
  {
   "cell_type": "code",
   "execution_count": null,
   "metadata": {
    "id": "ZKiknB6eARtR"
   },
   "outputs": [],
   "source": []
  },
  {
   "cell_type": "markdown",
   "metadata": {
    "id": "u7Hd6BgYARmn"
   },
   "source": [
    "---\n",
    "## **6. Command line question**"
   ]
  },
  {
   "cell_type": "code",
   "execution_count": null,
   "metadata": {
    "id": "IlihMLkKARe-"
   },
   "outputs": [],
   "source": []
  },
  {
   "cell_type": "markdown",
   "metadata": {
    "id": "B_eW_Q1-ARH1"
   },
   "source": [
    "---\n",
    "## **7. Theoretical question**"
   ]
  },
  {
   "cell_type": "code",
   "execution_count": null,
   "metadata": {
    "id": "0P8LDEG4ARBq"
   },
   "outputs": [],
   "source": [
    "with open('ApplicantsInfo.txt', 'x') as f:\n",
    "    url = f'https://adm2022.s3.amazonaws.com/ApplicantsInfo.txt'\n",
    "    result = requests.get(url)\n",
    "    soup = BeautifulSoup(result.text)\n",
    "    s = soup.find_all('body')\n",
    "    print(s)\n",
    "    f.write(str(s))"
   ]
  },
  {
   "cell_type": "code",
   "execution_count": null,
   "metadata": {},
   "outputs": [],
   "source": [
    "Application = pd.read_csv('ApplicantsInfo.txt', header=None)\n"
   ]
  },
  {
   "cell_type": "code",
   "execution_count": null,
   "metadata": {},
   "outputs": [],
   "source": [
    "n =Application.iloc[0]\n",
    "Application.drop(0, inplace=True)\n",
    "N= int(n[0][10:15])\n",
    "M= int(n[0][16:20])"
   ]
  },
  {
   "cell_type": "code",
   "execution_count": null,
   "metadata": {},
   "outputs": [],
   "source": [
    "df_average = pd.DataFrame(columns=('names','surnames','averages'))\n",
    "for i in range(N):\n",
    "    name = Application.iloc[i][0].split(' ')[0]\n",
    "    surname = Application.iloc[i][0].split(' ')[1]\n",
    "    all_points = Application.iloc[i][0].split(' ')[2:]\n",
    "    count = 0\n",
    "    for i in all_points:\n",
    "        s = int(i)\n",
    "        count += s\n",
    "    average = round(count/M,2)\n",
    "    df_average.loc[i]=[name, surname, average]\n",
    "    \n",
    "df_average.head()\n",
    "df_average.describe()  "
   ]
  },
  {
   "cell_type": "code",
   "execution_count": null,
   "metadata": {},
   "outputs": [],
   "source": [
    "lista = []\n",
    "for i in tqdm(range(N)):\n",
    "    name = Application.iloc[i][0].split(' ')[0]\n",
    "    surname = Application.iloc[i][0].split(' ')[1]\n",
    "    all_points = Application.iloc[i][0].split(' ')[2:]\n",
    "    count = 0\n",
    "    for i in all_points:\n",
    "        s = int(i)\n",
    "        count += s\n",
    "    average = round(count/M,2)\n",
    "    lista.append((name, surname, average))\n"
   ]
  },
  {
   "cell_type": "markdown",
   "metadata": {},
   "source": [
    "####  bubbleSort( )"
   ]
  },
  {
   "cell_type": "code",
   "execution_count": null,
   "metadata": {},
   "outputs": [],
   "source": [
    "def BubbleSort(lista):\n",
    "    for i in tqdm(range(N)):  #N\n",
    "        for j in range(i):  #i\n",
    "            if lista[j][2] >= lista[j+1][2]:  #1\n",
    "                if lista[j][2] == lista[j+1][2]:  #1\n",
    "                    if lista[j][0] >= lista[j+1][0]:  #1\n",
    "                        if lista[j][0] == lista[j+1][0]:  #1\n",
    "                            if lista[j][1] > lista[j+1][1]: #1 \n",
    "                                lista[j],lista[j+1]=lista[j+1],lista[j]  #1\n",
    "                        else:\n",
    "                            lista[j],lista[j+1]=lista[j+1],lista[j]  #1\n",
    "                else:\n",
    "                    lista[j],lista[j+1]=lista[j+1],lista[j]  #1\n",
    "    return lista\n",
    "                "
   ]
  },
  {
   "cell_type": "code",
   "execution_count": null,
   "metadata": {},
   "outputs": [],
   "source": [
    "BubbleSort(lista)"
   ]
  },
  {
   "cell_type": "markdown",
   "metadata": {},
   "source": [
    "#### MergeSort( )"
   ]
  },
  {
   "cell_type": "code",
   "execution_count": null,
   "metadata": {},
   "outputs": [],
   "source": [
    "def Merge(l1,l2):\n",
    "    n=len(l1)\n",
    "    m=len(l2)\n",
    "    lista=[]\n",
    "    i=0\n",
    "    j=0\n",
    "    while i < n and j < m:\n",
    "        if l1[i][2] <= l2[j][2]:\n",
    "            if l1[i][2] == l2[j][2]:\n",
    "                if l1[i][0] <= l2[j][0]:\n",
    "                    if l1[i][0] == l2[j][0]:\n",
    "                        if l1[i][1] < l2[j][1]:\n",
    "                            lista.append(l1[i])\n",
    "                            i+=1\n",
    "                        else:\n",
    "                            lista.append(l2[j])\n",
    "                            j+=1\n",
    "                    else:\n",
    "                        lista.append(l1[i])\n",
    "                        i+=1\n",
    "                else:\n",
    "                    lista.append(l2[j])\n",
    "                    j+=1\n",
    "            else:\n",
    "                lista.append(l1[i])\n",
    "                i+=1\n",
    "                \n",
    "        else:\n",
    "            lista.append(l2[j])\n",
    "            j+=1\n",
    "\n",
    "    while i < n:\n",
    "            lista.append(l1[i])\n",
    "            i += 1\n",
    "    while j < m:\n",
    "            lista.append(l2[j])\n",
    "            j += 1\n",
    "    return lista\n"
   ]
  },
  {
   "cell_type": "code",
   "execution_count": null,
   "metadata": {},
   "outputs": [],
   "source": [
    "def MergeSort(lista):\n",
    "    if len(lista) == 1:\n",
    "        return lista\n",
    "    else:\n",
    "        lista1=lista[:len(lista)//2]\n",
    "        lista2=lista[len(lista)//2:]\n",
    "        l1=MergeSort(lista1)\n",
    "        l2=MergeSort(lista2)\n",
    "        return Merge(l1,l2)"
   ]
  },
  {
   "cell_type": "code",
   "execution_count": null,
   "metadata": {},
   "outputs": [],
   "source": [
    "MergeSort(lista)"
   ]
  },
  {
   "cell_type": "markdown",
   "metadata": {},
   "source": [
    "#### QuickSort( )"
   ]
  },
  {
   "cell_type": "code",
   "execution_count": null,
   "metadata": {},
   "outputs": [],
   "source": [
    "\n",
    "def QuickSort(lista):\n",
    "    if len(lista) <= 1:\n",
    "        return lista\n",
    "    else:\n",
    "        pivot = rdm.choice(lista)\n",
    "        lista.remove(pivot)\n",
    "        l1=[]\n",
    "        l2=[]\n",
    "        for x in lista:\n",
    "            if x[2] <= pivot[2]:\n",
    "                if x[2] == pivot[2]:\n",
    "                    if x[0] <= pivot[0]:\n",
    "                        if x[0] == pivot[0]:\n",
    "                            if x[1] < pivot[1]:\n",
    "                                l1.append(x)\n",
    "                            else:\n",
    "                                l2.append(x)\n",
    "                        else:\n",
    "                            l1.append(x)\n",
    "                    else:\n",
    "                        l2.append(x)\n",
    "                else:\n",
    "                    l1.append(x)\n",
    "            else:\n",
    "                l2.append(x)\n",
    "        l= QuickSort(l1)+[pivot]+ QuickSort(l2)\n",
    "        return l\n",
    "                "
   ]
  },
  {
   "cell_type": "code",
   "execution_count": null,
   "metadata": {},
   "outputs": [],
   "source": [
    "QuickSort(lista)"
   ]
  }
 ],
 "metadata": {
  "colab": {
   "authorship_tag": "ABX9TyMQi+HtM3/4HET+IBhxwQTa",
   "include_colab_link": true,
   "provenance": []
  },
  "kernelspec": {
   "display_name": "Python 3 (ipykernel)",
   "language": "python",
   "name": "python3"
  },
  "language_info": {
   "codemirror_mode": {
    "name": "ipython",
    "version": 3
   },
   "file_extension": ".py",
   "mimetype": "text/x-python",
   "name": "python",
   "nbconvert_exporter": "python",
   "pygments_lexer": "ipython3",
   "version": "3.9.12"
  },
  "vscode": {
   "interpreter": {
    "hash": "773286f42bdafd8588749582ed653d25b280a530e585f5f155cb0082e5f8cdaa"
   }
  }
 },
 "nbformat": 4,
 "nbformat_minor": 4
}
